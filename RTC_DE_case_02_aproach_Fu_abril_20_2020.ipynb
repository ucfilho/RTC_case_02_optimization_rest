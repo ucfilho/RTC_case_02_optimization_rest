{
  "nbformat": 4,
  "nbformat_minor": 0,
  "metadata": {
    "colab": {
      "name": "RTC_DE_case_02_aproach_Fu_abril_20_2020.ipynb",
      "provenance": [],
      "collapsed_sections": [],
      "include_colab_link": true
    },
    "kernelspec": {
      "name": "python3",
      "display_name": "Python 3"
    }
  },
  "cells": [
    {
      "cell_type": "markdown",
      "metadata": {
        "id": "view-in-github",
        "colab_type": "text"
      },
      "source": [
        "<a href=\"https://colab.research.google.com/github/ucfilho/RTC_case_02_optimization_rest/blob/master/RTC_DE_case_02_aproach_Fu_abril_20_2020.ipynb\" target=\"_parent\"><img src=\"https://colab.research.google.com/assets/colab-badge.svg\" alt=\"Open In Colab\"/></a>"
      ]
    },
    {
      "cell_type": "code",
      "metadata": {
        "id": "wGzR2VpcZHYA",
        "colab_type": "code",
        "colab": {}
      },
      "source": [
        "import pandas as pd\n",
        "from scipy.optimize import differential_evolution\n",
        "import numpy as np\n",
        "import matplotlib.pyplot as plt"
      ],
      "execution_count": 0,
      "outputs": []
    },
    {
      "cell_type": "code",
      "metadata": {
        "id": "MjqwkVE67u2g",
        "colab_type": "code",
        "outputId": "f1fcccd0-bfc9-444a-f452-8a4c6208dd22",
        "colab": {
          "base_uri": "https://localhost:8080/",
          "height": 50
        }
      },
      "source": [
        "!git clone https://github.com/ucfilho/raianars_RTC_optimization #clonar do Github\n",
        "%cd raianars_RTC_optimization\n",
        "import de_bounds_matriz"
      ],
      "execution_count": 2,
      "outputs": [
        {
          "output_type": "stream",
          "text": [
            "fatal: destination path 'raianars_RTC_optimization' already exists and is not an empty directory.\n",
            "/content/raianars_RTC_optimization\n"
          ],
          "name": "stdout"
        }
      ]
    },
    {
      "cell_type": "code",
      "metadata": {
        "id": "7ZTyQ1iWgChp",
        "colab_type": "code",
        "colab": {}
      },
      "source": [
        "# keep the split stream in last position ?????"
      ],
      "execution_count": 0,
      "outputs": []
    },
    {
      "cell_type": "code",
      "metadata": {
        "colab_type": "code",
        "id": "M3ougpFws_w9",
        "colab": {}
      },
      "source": [
        "def SharkBuildMatriz(x):\n",
        "  # Ind_I,Ind_J,deltaT, Split, WhenSplit, Alpha=SharkBuildMatriz(x)\n",
        "  # add one position in three variables (Ind_J,Ind_I,deltaT)\n",
        "  # Alfa and Split (split choose the moment and alpha the fraction)\n",
        "  # Split=which stream\n",
        "  # Alfa=fraction \n",
        "  \n",
        "  global Trocas\n",
        "  NPAR=1\n",
        "  #cols=len(tempInicial)\n",
        "  size=int(3*Trocas+3) # number 3 represent split, alfa and WhenSplit\n",
        "  # add one exchange\n",
        "  x=np.array(x).reshape(1,size)\n",
        "  # print('x=');print(x)\n",
        "  Ind_I=np.zeros((NPAR,Trocas)).astype(np.int64)\n",
        "  Ind_J=np.zeros((NPAR,Trocas)).astype(np.int64)\n",
        "  \n",
        "  Tout=np.zeros((NPAR,Trocas))\n",
        "  deltaT=np.zeros((NPAR,Trocas))\n",
        "  for i in range(NPAR):\n",
        "    Alpha=x[i,size-3]\n",
        "    Split=round(x[i,size-2]).astype(np.int64)\n",
        "    WhenSplit=round(x[i,size-1]).astype(np.int64)\n",
        "    for j in range(Trocas):\n",
        "      Ind_I[i,j]=round(x[i,j])\n",
        "      Ind_J[i,j]=round(x[i,j+Trocas])\n",
        "      deltaT[i,j]=x[i,j+2*Trocas] \n",
        "\n",
        "  return Ind_I,Ind_J,deltaT, Split, WhenSplit, Alpha\n",
        "  #Ind_I,Ind_J,deltaT, Split, WhenSplit, Alpha=SharkBuildMatriz(x)"
      ],
      "execution_count": 0,
      "outputs": []
    },
    {
      "cell_type": "code",
      "metadata": {
        "id": "lmPfZ7arakM1",
        "colab_type": "code",
        "colab": {}
      },
      "source": [
        "#FUN calcula o TAC para um determinado arranjo\n",
        "#  cada calculo é feito em uma funcao a parte Fun usa todas funcoes \n",
        "\n",
        "def FUN(x):\n",
        "\n",
        "  global mCp,tempAtual,tempAlvo,tempInicial,U,coefCustoUQ,coefCustoUF\n",
        "  \n",
        "  NPAR=1\n",
        "  '''\n",
        "  funr=np.zeros((NPAR))\n",
        "  cols=len(mCp)\n",
        "  Ind_I,Ind_J,deltaT, Tin, Tout=buildMatriz(x) # transforma x em matriz logica e troca\n",
        "  Tout, Erro=Temperatura(x)\n",
        "  areaTrocadores =Area(x)\n",
        "  areaUtilidade, cargaUQ,cargaUF = Utilidades(tempAlvo,Tout,mCp)\n",
        "  cost=CustoProcesso(areaTrocadores,areaUtilidade,cargaUF,cargaUQ)\n",
        "  funr=cost\n",
        "\n",
        "  for k in range(NPAR):\n",
        "    if(Erro[k]>0):\n",
        "      funr[k]=1e99\n",
        "  funr = np.where(np.isnan(cost), 1e99, cost)\n",
        "  '''\n",
        "  funr=1e99 # fake line (temporary)\n",
        "  return funr "
      ],
      "execution_count": 0,
      "outputs": []
    },
    {
      "cell_type": "code",
      "metadata": {
        "id": "AJAKALcG-KF6",
        "colab_type": "code",
        "colab": {}
      },
      "source": [
        "def ChangeTemp(ki,kj,i,j,Tout,Cp,deltaT):\n",
        "  global NPAR\n",
        "  erro=np.zeros((NPAR)) # erro=1 if there  is an error : penalties\n",
        "  tempSaidaQ=Tout[ki,i]+deltaT[ki,kj]\n",
        "  tempSaidaF=-Cp[kj]*deltaT[ki,kj]/(Cp[j])+Tout[ki,j]\n",
        "  flag=0 # flag : logical test\n",
        "  if(Tout[ki,i] > Tout[ki,j]): #Tquente maior Tfria: vaores atuais\n",
        "    if(tempSaidaQ > tempSaidaF):#Tquente maior Tfria: saidas\n",
        "      flag=1\n",
        "  if(flag>0):\n",
        "    Tout[ki,i]=tempSaidaQ\n",
        "    Tout[ki,j]=tempSaidaF\n",
        "  else:\n",
        "    erro[ki]=1\n",
        "\n",
        "  Thot=np.copy(Tout[ki,i]) # value used to return original value (if request)\n",
        "  Tcold=np.copy(Tout[ki,j]) # value used to return original value (if request)\n",
        "  \n",
        "  return Tout,erro,Thot,Tcold\n",
        "  # Tout,erro,Thot,Tcold=ChangeTemp(ki,kj,i,j,Tout,Cp,deltaT)       \n",
        " "
      ],
      "execution_count": 0,
      "outputs": []
    },
    {
      "cell_type": "code",
      "metadata": {
        "id": "GQ5b6YgWLNqr",
        "colab_type": "code",
        "colab": {}
      },
      "source": [
        "def Utility(Trocas,Rec_Temp,tempAlvo):\n",
        "  df=pd.DataFrame(Rec_Temp)\n",
        "  tempFinal=np.zeros((Trocas-1))\n",
        "  row=len(df.iloc[:,0])\n",
        "  col=len(df.iloc[0,:])-1\n",
        "  for i in range(row):\n",
        "    for j in range(col):\n",
        "      tempFinal[j]=np.copy(df.iloc[i,j]) "
      ],
      "execution_count": 0,
      "outputs": []
    },
    {
      "cell_type": "code",
      "metadata": {
        "id": "Ha_XxG-tT7yB",
        "colab_type": "code",
        "colab": {}
      },
      "source": [
        "def Temperatura(x):\n",
        "  global Trocas, mCp,tempInicial,tempAlvo,Ttest\n",
        "\n",
        "  NPAR=1\n",
        "  Tin=np.zeros(Trocas)\n",
        "  Tout=np.zeros((NPAR,Trocas))\n",
        "  mCpin=np.zeros(Trocas)\n",
        "  \n",
        "  rows=Trocas \n",
        "  cols=Trocas\n",
        "  Rec_Temp=np.zeros((rows+4,cols))# four extra positions to better view and one to split\n",
        "\n",
        "  Ind_I,Ind_J,deltaT, Split, WhenSplit, Alpha=SharkBuildMatriz(x)\n",
        "\n",
        "\n",
        "  if(WhenSplit==Trocas-1):\n",
        "    Ind_1st=WhenSplit-2\n",
        "    Ind_2nd=Trocas-1\n",
        "  else:\n",
        "    Ind_1st=WhenSplit\n",
        "    Ind_2nd=Trocas-1\n",
        "  \n",
        "  #=====================\n",
        "  # part B: allocating split in cold or hot stream\n",
        "  # Hot=1 means hot stream is split\n",
        "  # Hot=0 means hot stream is not split (so cold stream is split)\n",
        "  if(tempInicial[Split]>tempAlvo[Split]): # hot stream is spliting\n",
        "    Hot=1 \n",
        "    Ind_I[0,Ind_1st]=Split # two streams are correct by split information\n",
        "    Ind_I[0,Ind_2nd]=Trocas-1 # two streams are correct by split information\n",
        "  else: # cold stream is spliting\n",
        "    Hot=0 \n",
        "    Ind_J[0,Ind_1st]=Split # two streams are correct by split information\n",
        "    Ind_J[0,Ind_2nd]=Trocas-1 # two streams are correct by split information\n",
        "\n",
        "  #=====================\n",
        "  # part C: bulding mCp with split values and temperatures with split values\n",
        "  for kk in range(Trocas-1):  # ???(Trocas-1) should be replaced by (Trocas-2)?\n",
        "    Tin[kk]=np.copy(tempInicial[kk])\n",
        "    mCpin[kk]=mCp[kk]\n",
        "\n",
        "  Tin[Trocas-1]=tempInicial[Split]\n",
        "  mCpin[Trocas-1]=mCpin[Split]    \n",
        "\n",
        "\n",
        "  mCpout=np.copy(mCpin)\n",
        "  if(Split==Trocas-1):\n",
        "    mCpout[Split-1]= Alpha*mCpin[Split]\n",
        "    mCpout[Split]= (1-Alpha)*mCpin[Split]\n",
        "  else:\n",
        "    mCpout[Split]=Alpha*mCpin[Split]\n",
        "    mCpout[Trocas-1]= (1-Alpha)*mCpin[Split]\n",
        "  \n",
        "\n",
        "  for ki in range(NPAR):\n",
        "    for kj in range(Trocas): \n",
        "      Tout[ki,kj]=np.copy(Tin[kj])\n",
        "\n",
        "  # Lists Rec_Temp is used to build graph \n",
        "  for i in range(2):\n",
        "    for j in range(cols):\n",
        "      Rec_Temp[i,j]=np.copy(Tout[0,j])\n",
        "\n",
        "  Ttest=np.copy(Tout)\n",
        "  Grab=0 #grab is evaluation: 0: no split, 1:start slit, 2:conclude split \n",
        "  #=====================\n",
        "  # part D: start get temperatures using informations build (A,B,C)\n",
        "  Cont=1\n",
        "  for ki in range(NPAR):\n",
        "    for kj in range(Trocas):\n",
        "      Cont=Cont+1\n",
        "      k=kj\n",
        "      if(kj==WhenSplit):\n",
        "        Cp=np.copy(mCpout)\n",
        "        grab=1\n",
        "      elif(kj==WhenSplit+1):\n",
        "        Cp=np.copy(mCpout)\n",
        "        grab=2\n",
        "      else:\n",
        "        Cp=np.copy(mCpin)\n",
        "        grab=0\n",
        "      \n",
        "      if(grab==2):\n",
        "        if(Hot==1):\n",
        "          i=Trocas-1\n",
        "        else:\n",
        "          j=Trocas-1\n",
        "      else:\n",
        "        i=Ind_I[ki,kj]\n",
        "        j=Ind_J[ki,kj]\n",
        "\n",
        "      \n",
        "      Tout,erro,Thot,Tcold=ChangeTemp(ki,kj,i,j,Tout,Cp,deltaT) \n",
        "\n",
        "      for j in range(Trocas):\n",
        "        Rec_Temp[Cont,j]=np.copy(Tout[0,j])\n",
        "\n",
        "      \n",
        "      if(grab==2):\n",
        "        Taux=Alpha*Tout[ki,Split]+(1-Alpha)*Tout[ki,Trocas-1]\n",
        "        Tout[ki,Trocas-1]=np.copy(Taux)\n",
        "        Tout[ki,Split]=np.copy(Taux)\n",
        "        Cont=Cont+1\n",
        "        for j in range(Trocas):\n",
        "          Rec_Temp[Cont,j]=np.copy(Tout[0,j])\n",
        "        Cont=Cont+1\n",
        "\n",
        "      if(grab == 0):\n",
        "        if(Hot==1):\n",
        "          Tout[ki,Trocas-1]=Tout[ki,Split]\n",
        "        else:\n",
        "          Tout[ki,Trocas-1]=Tout[ki,Split]\n",
        "\n",
        "      for j in range(cols):\n",
        "        Rec_Temp[Cont,j]=np.copy(Tout[0,j])\n",
        "\n",
        "\n",
        "    \n",
        "  return Tout,erro,Rec_Temp\n",
        "\n",
        "  # return Ind_I,Ind_J,deltaT, Split, WhenSplit, Alpha # fake return until test\n",
        "  # return Ind_I,Ind_J,deltaT, Split, WhenSplit, Alpha,Tin # fake return until test\n",
        "  # return Ind_I,Ind_J,deltaT, Split, WhenSplit, Alpha,Tin, mCpin # fake return until test\n",
        "  # return Ind_I,Ind_J,deltaT, Split, WhenSplit, Alpha,Tin, mCpin, mCpout # fake return until test"
      ],
      "execution_count": 0,
      "outputs": []
    },
    {
      "cell_type": "code",
      "metadata": {
        "id": "Dt6anZvATxzg",
        "colab_type": "code",
        "colab": {}
      },
      "source": [
        "#********************PROGRAMA PRINCIPAL*************************\n",
        "\n",
        "Trocas=5\n",
        "mCp=[4,2,1.5,3] #[kW/K]\n",
        "tempInicial=[453.0,393.0,523.0,533.0] #[K]\n",
        "tempAtual=np.copy(tempInicial) \n",
        "tempAlvo=[513.0,508.0,403.0,433.0] #[K]\n",
        "U=0.2 #[kW/(m2.K)]\n",
        "coefCustoUQ=110 #[$/(kW.ano)]\n",
        "coefCustoUF=12.2 #[$/(kW.ano)]\n",
        "\n",
        "# the last position in MAX and MIN vector represent which moment the split \n",
        "#    occur not which stream (split represent which stream) \n",
        "#    for this reason it reach larger value\n",
        "#MAX=np.array([3,3,3,3,3,3,3,3,3,3,0,0,0,0,0,1,3,4]) # ,1,3,4]) Alpha,Split,WhenSplit\n",
        "#MIN=np.array([0,0,0,0,0,0,0,0,0,0,-100,-100,-100,-100,-100,0,0,0])\n",
        "\n",
        "MAX=np.array([3,3,3,3,3,1,1,1,1,1,0,0,0,0,0,1,3,4]) # ,1,3,4]) Alpha,Split,WhenSplit\n",
        "MIN=np.array([2,2,2,2,2,0,0,0,0,0,-20,-20,-20,-20,-20,0,0,0])\n",
        "NPAR=1\n",
        "cols=int(3*Trocas+3)\n",
        "x=np.zeros((NPAR,cols))\n",
        "\n",
        "for i in range(NPAR):\n",
        "  for j in range(cols):\n",
        "    r=np.random.random()\n",
        "    x[i,j]=r*(MAX[j]-MIN[j])+MIN[j]\n",
        "\n",
        "\n",
        "\n",
        "\n",
        "\n",
        "bounds=[]\n",
        "for k in range(len(MAX)):\n",
        "  bounds.append((MIN[k],MAX[k]))\n",
        "\n",
        "\n",
        "#print(bounds)\n",
        "\n"
      ],
      "execution_count": 0,
      "outputs": []
    },
    {
      "cell_type": "code",
      "metadata": {
        "id": "K4uCBdRVKAOf",
        "colab_type": "code",
        "outputId": "ffb659e2-fe10-4157-fb52-357489c5251f",
        "colab": {
          "base_uri": "https://localhost:8080/",
          "height": 168
        }
      },
      "source": [
        "\n",
        "Ttest=np.zeros((1,Trocas))\n",
        "\n",
        "Ind_I,Ind_J,deltaT, Split, WhenSplit, Alpha=SharkBuildMatriz(x)\n",
        "Tout,erro,Rec_Temp=Temperatura(x)\n",
        "\n",
        "print(Ind_I)\n",
        "print(Ind_J)\n",
        "print(deltaT)\n",
        "print('Split=',Split)\n",
        "print(Alpha)\n",
        "print(WhenSplit)\n",
        "print(\"#####------######\")\n",
        "print(Ttest)\n",
        "print(tempInicial)\n",
        "\n"
      ],
      "execution_count": 9,
      "outputs": [
        {
          "output_type": "stream",
          "text": [
            "[[2 2 2 2 2]]\n",
            "[[0 1 0 0 0]]\n",
            "[[ -1.48720033  -3.4545016  -16.45350725 -17.09428843  -6.43421172]]\n",
            "Split= 0\n",
            "0.5285272582367072\n",
            "1\n",
            "#####------######\n",
            "[[453. 393. 523. 533. 453.]]\n",
            "[453.0, 393.0, 523.0, 533.0]\n"
          ],
          "name": "stdout"
        }
      ]
    },
    {
      "cell_type": "code",
      "metadata": {
        "id": "staDxSeFWyzK",
        "colab_type": "code",
        "outputId": "ff7986d3-8a9b-4f43-db81-ea08bb169ec0",
        "colab": {
          "base_uri": "https://localhost:8080/",
          "height": 235
        }
      },
      "source": [
        "\n",
        "print('=====================')\n",
        "Tout,erro,Rec_Temp =Temperatura(x)\n",
        "df=pd.DataFrame(Rec_Temp)\n",
        "print('*****',Tout)\n",
        "print(erro)\n",
        "print(df)\n"
      ],
      "execution_count": 10,
      "outputs": [
        {
          "output_type": "stream",
          "text": [
            "=====================\n",
            "***** [[475.20523268 393.         484.51050238 533.         475.20523268]]\n",
            "[1.]\n",
            "            0      1           2      3           4\n",
            "0  453.000000  393.0  523.000000  533.0  453.000000\n",
            "1  453.000000  393.0  523.000000  533.0  453.000000\n",
            "2  454.487200  393.0  521.512800  533.0  454.487200\n",
            "3  457.755245  393.0  518.058298  533.0  454.487200\n",
            "4  457.755245  393.0  501.604791  533.0  467.573991\n",
            "5  462.384516  393.0  501.604791  533.0  462.384516\n",
            "6  462.384516  393.0  501.604791  533.0  462.384516\n",
            "7  475.205233  393.0  484.510502  533.0  475.205233\n",
            "8  475.205233  393.0  484.510502  533.0  475.205233\n"
          ],
          "name": "stdout"
        }
      ]
    },
    {
      "cell_type": "code",
      "metadata": {
        "id": "S80QizOyk77C",
        "colab_type": "code",
        "outputId": "a17dc9bc-2610-4ba5-803d-0f436f0f5806",
        "colab": {
          "base_uri": "https://localhost:8080/",
          "height": 34
        }
      },
      "source": [
        "print(WhenSplit)"
      ],
      "execution_count": 11,
      "outputs": [
        {
          "output_type": "stream",
          "text": [
            "1\n"
          ],
          "name": "stdout"
        }
      ]
    },
    {
      "cell_type": "code",
      "metadata": {
        "id": "z4RyeYueqKN1",
        "colab_type": "code",
        "outputId": "a3479f96-4533-47db-fa41-5d0b3b63a60a",
        "colab": {
          "base_uri": "https://localhost:8080/",
          "height": 300
        }
      },
      "source": [
        "#df = df[:-1]\n",
        "Imagem=len(df.iloc[:,0]) # Imagens+5 to get better graph postions\n",
        "Change=range(Imagem)\n",
        "for k in range(Trocas):\n",
        "  plt.plot(Change,df.iloc[:,k])\n",
        "\n",
        "plt.xlabel('Stages')\n",
        "plt.ylabel('Temperature (K)')"
      ],
      "execution_count": 12,
      "outputs": [
        {
          "output_type": "execute_result",
          "data": {
            "text/plain": [
              "Text(0, 0.5, 'Temperature (K)')"
            ]
          },
          "metadata": {
            "tags": []
          },
          "execution_count": 12
        },
        {
          "output_type": "display_data",
          "data": {
            "image/png": "[encoded data removed]",
            "text/plain": [
              "<Figure size 432x288 with 1 Axes>"
            ]
          },
          "metadata": {
            "tags": [],
            "needs_background": "light"
          }
        }
      ]
    },
    {
      "cell_type": "code",
      "metadata": {
        "id": "Rq6zaln-6cGn",
        "colab_type": "code",
        "colab": {
          "base_uri": "https://localhost:8080/",
          "height": 185
        },
        "outputId": "e8647020-005b-443e-ca5f-fb83b8cfaf2a"
      },
      "source": [
        "print(df)"
      ],
      "execution_count": 13,
      "outputs": [
        {
          "output_type": "stream",
          "text": [
            "            0      1           2      3           4\n",
            "0  453.000000  393.0  523.000000  533.0  453.000000\n",
            "1  453.000000  393.0  523.000000  533.0  453.000000\n",
            "2  454.487200  393.0  521.512800  533.0  454.487200\n",
            "3  457.755245  393.0  518.058298  533.0  454.487200\n",
            "4  457.755245  393.0  501.604791  533.0  467.573991\n",
            "5  462.384516  393.0  501.604791  533.0  462.384516\n",
            "6  462.384516  393.0  501.604791  533.0  462.384516\n",
            "7  475.205233  393.0  484.510502  533.0  475.205233\n",
            "8  475.205233  393.0  484.510502  533.0  475.205233\n"
          ],
          "name": "stdout"
        }
      ]
    },
    {
      "cell_type": "code",
      "metadata": {
        "id": "stkxAEVg9kcg",
        "colab_type": "code",
        "colab": {
          "base_uri": "https://localhost:8080/",
          "height": 67
        },
        "outputId": "31c867e1-9e29-4969-ae50-fc8a0d3801d0"
      },
      "source": [
        "print(Split)\n",
        "print(WhenSplit)\n",
        "print(tempInicial)\n"
      ],
      "execution_count": 14,
      "outputs": [
        {
          "output_type": "stream",
          "text": [
            "0\n",
            "1\n",
            "[453.0, 393.0, 523.0, 533.0]\n"
          ],
          "name": "stdout"
        }
      ]
    },
    {
      "cell_type": "code",
      "metadata": {
        "id": "mSNvHi0qFleY",
        "colab_type": "code",
        "colab": {
          "base_uri": "https://localhost:8080/",
          "height": 67
        },
        "outputId": "ad9f47ab-fb92-4c9c-ba1f-e138b52b91e0"
      },
      "source": [
        "tempFinal=np.zeros((Trocas-1))\n",
        "row=len(df.iloc[:,0])\n",
        "col=len(df.iloc[0,:])-1\n",
        "for i in range(row):\n",
        "  for j in range(col):\n",
        "    tempFinal[j]=np.copy(df.iloc[i,j])\n",
        "print(tempFinal)\n",
        "print(row)\n",
        "print(col)"
      ],
      "execution_count": 16,
      "outputs": [
        {
          "output_type": "stream",
          "text": [
            "[475.20523268 393.         484.51050238 533.        ]\n",
            "9\n",
            "4\n"
          ],
          "name": "stdout"
        }
      ]
    },
    {
      "cell_type": "code",
      "metadata": {
        "id": "98ebmeBd6e5L",
        "colab_type": "code",
        "colab": {}
      },
      "source": [
        "'''\n",
        "fobj=FUN\n",
        "mut=0.5\n",
        "crossp=0.5\n",
        "NPAR=100\n",
        "its=200\n",
        "cols=12\n",
        "x=np.zeros((NPAR,cols))\n",
        "for i in range(NPAR):\n",
        "  for j in range(cols):\n",
        "    r=np.random.random()\n",
        "    x[i,j]=r*(MAX[j]-MIN[j])+MIN[j]\n",
        "\n",
        "x,BEST,FOBEST,XY,BEST_XY=de_bounds_matriz.de(bounds, mut, crossp, \n",
        "                                             NPAR, its,fobj,x)\n",
        "'''"
      ],
      "execution_count": 0,
      "outputs": []
    },
    {
      "cell_type": "code",
      "metadata": {
        "id": "aIEq0IrCBVPm",
        "colab_type": "code",
        "colab": {}
      },
      "source": [
        "#print('FOBEST=');print(FOBEST)"
      ],
      "execution_count": 0,
      "outputs": []
    },
    {
      "cell_type": "code",
      "metadata": {
        "id": "dKx9C1kcDLph",
        "colab_type": "code",
        "colab": {}
      },
      "source": [
        "#print(BEST)"
      ],
      "execution_count": 0,
      "outputs": []
    },
    {
      "cell_type": "code",
      "metadata": {
        "id": "h7VYqfu-Ee7-",
        "colab_type": "code",
        "colab": {}
      },
      "source": [
        "'''\n",
        "Busca=Numb(BEST)\n",
        "print(pd.DataFrame(Busca))\n",
        "df=pd.DataFrame(Busca)\n",
        "'''"
      ],
      "execution_count": 0,
      "outputs": []
    },
    {
      "cell_type": "code",
      "metadata": {
        "id": "AuAvTiG5Ma0o",
        "colab_type": "code",
        "colab": {}
      },
      "source": [
        "print(Alpha)"
      ],
      "execution_count": 0,
      "outputs": []
    }
  ]
}