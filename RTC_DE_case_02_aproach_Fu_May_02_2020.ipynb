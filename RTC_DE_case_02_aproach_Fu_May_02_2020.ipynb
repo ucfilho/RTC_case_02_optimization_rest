{
  "nbformat": 4,
  "nbformat_minor": 0,
  "metadata": {
    "colab": {
      "name": "RTC_DE_case_02_aproach_Fu_May_02_2020.ipynb",
      "provenance": [],
      "collapsed_sections": [],
      "include_colab_link": true
    },
    "kernelspec": {
      "name": "python3",
      "display_name": "Python 3"
    }
  },
  "cells": [
    {
      "cell_type": "markdown",
      "metadata": {
        "id": "view-in-github",
        "colab_type": "text"
      },
      "source": [
        "<a href=\"https://colab.research.google.com/github/ucfilho/RTC_case_02_optimization_rest/blob/master/RTC_DE_case_02_aproach_Fu_May_02_2020.ipynb\" target=\"_parent\"><img src=\"https://colab.research.google.com/assets/colab-badge.svg\" alt=\"Open In Colab\"/></a>"
      ]
    },
    {
      "cell_type": "code",
      "metadata": {
        "id": "wGzR2VpcZHYA",
        "colab_type": "code",
        "colab": {}
      },
      "source": [
        "import pandas as pd\n",
        "from scipy.optimize import differential_evolution\n",
        "import numpy as np\n",
        "import matplotlib.pyplot as plt"
      ],
      "execution_count": 0,
      "outputs": []
    },
    {
      "cell_type": "code",
      "metadata": {
        "id": "MjqwkVE67u2g",
        "colab_type": "code",
        "outputId": "d1a6ca06-120f-4617-b3f7-b33dc4cc2d9f",
        "colab": {
          "base_uri": "https://localhost:8080/",
          "height": 52
        }
      },
      "source": [
        "!git clone https://github.com/ucfilho/raianars_RTC_optimization #clonar do Github\n",
        "%cd raianars_RTC_optimization\n",
        "import de_bounds_matriz"
      ],
      "execution_count": 0,
      "outputs": [
        {
          "output_type": "stream",
          "text": [
            "fatal: destination path 'raianars_RTC_optimization' already exists and is not an empty directory.\n",
            "/content/raianars_RTC_optimization\n"
          ],
          "name": "stdout"
        }
      ]
    },
    {
      "cell_type": "code",
      "metadata": {
        "id": "AJAKALcG-KF6",
        "colab_type": "code",
        "colab": {}
      },
      "source": [
        "def ChangeTemp(ki,kj,i,j,Tout,Cp,deltaT):\n",
        "  global NPAR\n",
        "  erro=np.zeros((NPAR)) # erro=1 if there  is an error : penalties\n",
        "  tempSaidaQ=Tout[ki,i]+deltaT[ki,kj]\n",
        "  tempSaidaF=-Cp[kj]*deltaT[ki,kj]/(Cp[j])+Tout[ki,j]\n",
        "  flag=0 # flag : logical test\n",
        "  Thot=np.copy(Tout[ki,i]) # value used to return original value (if request)\n",
        "  Tcold=np.copy(Tout[ki,j]) # value used to return original value (if request)\n",
        "  if(Tout[ki,i] > Tout[ki,j]): #Tquente maior Tfria: vaores atuais\n",
        "    if(tempSaidaQ > tempSaidaF):#Tquente maior Tfria: saidas\n",
        "      flag=1\n",
        "  if(flag>0):\n",
        "    Tout[ki,i]=tempSaidaQ\n",
        "    Tout[ki,j]=tempSaidaF\n",
        "  else:\n",
        "    erro[ki]=1\n",
        "\n",
        "\n",
        "  \n",
        "  return Tout,erro,Thot,Tcold\n",
        "  # Tout,erro,Thot,Tcold=ChangeTemp(ki,kj,i,j,Tout,Cp,deltaT)       \n",
        " "
      ],
      "execution_count": 0,
      "outputs": []
    },
    {
      "cell_type": "code",
      "metadata": {
        "colab_type": "code",
        "id": "M3ougpFws_w9",
        "colab": {}
      },
      "source": [
        "def SharkBuildMatriz(x):\n",
        "  # Ind_I,Ind_J,deltaT, Split, WhenSplit, Alpha=SharkBuildMatriz(x)\n",
        "  # add one position in three variables (Ind_J,Ind_I,deltaT)\n",
        "  # Alfa and Split (split choose the moment and alpha the fraction)\n",
        "  # Split=which stream\n",
        "  # Alfa=fraction \n",
        "  \n",
        "  global Trocas\n",
        "  NPAR=1\n",
        "  #cols=len(tempInicial)\n",
        "  size=int(3*Trocas+3) # number 3 represent split, alfa and WhenSplit\n",
        "  # add one exchange\n",
        "  x=np.array(x).reshape(1,size)\n",
        "  # print('x=');print(x)\n",
        "  Ind_I=np.zeros((NPAR,Trocas)).astype(np.int64)\n",
        "  Ind_J=np.zeros((NPAR,Trocas)).astype(np.int64)\n",
        "  \n",
        "  Tout=np.zeros((NPAR,Trocas))\n",
        "  deltaT=np.zeros((NPAR,Trocas))\n",
        "  for i in range(NPAR):\n",
        "    Alpha=x[i,size-3]\n",
        "    Split=round(x[i,size-2]).astype(np.int64)\n",
        "    WhenSplit=round(x[i,size-1]).astype(np.int64)\n",
        "    for j in range(Trocas):\n",
        "      Ind_I[i,j]=round(x[i,j])\n",
        "      Ind_J[i,j]=round(x[i,j+Trocas])\n",
        "      deltaT[i,j]=x[i,j+2*Trocas] \n",
        "\n",
        "  return Ind_I,Ind_J,deltaT, Split, WhenSplit, Alpha\n",
        "  #Ind_I,Ind_J,deltaT, Split, WhenSplit, Alpha=SharkBuildMatriz(x)"
      ],
      "execution_count": 0,
      "outputs": []
    },
    {
      "cell_type": "code",
      "metadata": {
        "id": "tiAuxushMBim",
        "colab_type": "code",
        "colab": {}
      },
      "source": [
        ""
      ],
      "execution_count": 0,
      "outputs": []
    },
    {
      "cell_type": "code",
      "metadata": {
        "id": "UJGjsc_haGya",
        "colab_type": "code",
        "colab": {}
      },
      "source": [
        "def Area(x):\n",
        "\n",
        "  global mCp,tempAlvo,tempInicial,Trocas,U\n",
        "  \n",
        "  NPAR=1\n",
        "  \n",
        "  Area=[]\n",
        "\n",
        "  Ind_I,Ind_J,deltaT,Tin, Tout=buildMatriz(x) \n",
        "  Tatual=np.copy(np.array(tempInicial))\n",
        "\n",
        "  rows=Trocas \n",
        "  cols=len(mCp)\n",
        "\n",
        "  Area_Particula=[]\n",
        "\n",
        "  for k in range(Trocas):\n",
        "\n",
        "    i=Ind_I[0,k]\n",
        "    j=Ind_J[0,k]\n",
        "    tempSaidaQ=Tatual[i]+deltaT[0,k]\n",
        "    tempSaidaF=-deltaT[0,k]*mCp[i]/(mCp[j])+Tatual[j]\n",
        "\n",
        "    Told_i=Tatual[i]\n",
        "    Told_j=Tatual[j]\n",
        "\n",
        "    Tatual[i]=np.copy(tempSaidaQ)\n",
        "    Tatual[j]=np.copy(tempSaidaF)\n",
        "    deltaT1=Tatual[i]-tempSaidaF\n",
        "    deltaT2=tempSaidaQ-Tatual[j]\n",
        "    try:\n",
        "      A=(deltaT1-deltaT2)\n",
        "      B=np.log((deltaT1/deltaT2))\n",
        "      deltaTMediaLog=A/B\n",
        "    except:\n",
        "      deltaTMediaLog=1e99\n",
        "  \n",
        "    if(deltaTMediaLog==1e99):\n",
        "      AreaCalc=1e99\n",
        "    else:\n",
        "      AreaCalc=abs(deltaT[0,k]*mCp[i]/(U*deltaTMediaLog))\n",
        "\n",
        "    if(Told_i==Tatual[i]):\n",
        "      AreaCalc=0\n",
        "\n",
        "    if(Told_j==Tatual[j]):\n",
        "      AreaCalc=0\n",
        "\n",
        "      Area_Particula.append(AreaCalc)\n",
        "      \n",
        "  Area.append(Area_Particula)\n",
        "\n",
        "  return Area"
      ],
      "execution_count": 0,
      "outputs": []
    },
    {
      "cell_type": "code",
      "metadata": {
        "id": "Ha_XxG-tT7yB",
        "colab_type": "code",
        "colab": {}
      },
      "source": [
        "def Temperatura(x):\n",
        "  global Trocas, mCp,tempInicial,tempAlvo,Ttest\n",
        "\n",
        "  NPAR=1\n",
        "  #print(x)\n",
        "  #print('inside temperatura function')\n",
        "  Tin=np.zeros(Trocas)\n",
        "  Tout=np.zeros((NPAR,Trocas))\n",
        "  mCpin=np.zeros(Trocas)\n",
        "  \n",
        "  rows=Trocas \n",
        "  cols=Trocas\n",
        "  Rec_Temp=np.zeros((rows+4,cols))# four extra positions to better view and one to split\n",
        "\n",
        "  Ind_I,Ind_J,deltaT, Split, WhenSplit, Alpha=SharkBuildMatriz(x)\n",
        "\n",
        "\n",
        "  if(WhenSplit==Trocas-1):\n",
        "    Ind_1st=WhenSplit-2\n",
        "    Ind_2nd=Trocas-1\n",
        "  else:\n",
        "    Ind_1st=WhenSplit\n",
        "    Ind_2nd=Trocas-1\n",
        "  \n",
        "  #=====================\n",
        "  # part B: allocating split in cold or hot stream\n",
        "  # Hot=1 means hot stream is split\n",
        "  # Hot=0 means hot stream is not split (so cold stream is split)\n",
        "  if(tempInicial[Split]>tempAlvo[Split]): # hot stream is spliting\n",
        "    Hot=1 \n",
        "    Ind_I[0,Ind_1st]=Split # two streams are correct by split information\n",
        "    Ind_I[0,Ind_2nd]=Trocas-1 # two streams are correct by split information\n",
        "  else: # cold stream is spliting\n",
        "    Hot=0 \n",
        "    Ind_J[0,Ind_1st]=Split # two streams are correct by split information\n",
        "    Ind_J[0,Ind_2nd]=Trocas-1 # two streams are correct by split information\n",
        "\n",
        "  #=====================\n",
        "  # part C: bulding mCp with split values and temperatures with split values\n",
        "  for kk in range(Trocas-1):  # ???(Trocas-1) should be replaced by (Trocas-2)?\n",
        "    Tin[kk]=np.copy(tempInicial[kk])\n",
        "    mCpin[kk]=mCp[kk]\n",
        "\n",
        "  Tin[Trocas-1]=tempInicial[Split]\n",
        "  mCpin[Trocas-1]=mCpin[Split]    \n",
        "\n",
        "\n",
        "  mCpout=np.copy(mCpin)\n",
        "  if(Split==Trocas-1):\n",
        "    mCpout[Split-1]= Alpha*mCpin[Split]\n",
        "    mCpout[Split]= (1-Alpha)*mCpin[Split]\n",
        "  else:\n",
        "    mCpout[Split]=Alpha*mCpin[Split]\n",
        "    mCpout[Trocas-1]= (1-Alpha)*mCpin[Split]\n",
        "  \n",
        "\n",
        "  for ki in range(NPAR):\n",
        "    for kj in range(Trocas): \n",
        "      Tout[ki,kj]=np.copy(Tin[kj])\n",
        "\n",
        "  # Lists Rec_Temp is used to build graph \n",
        "  for i in range(2):\n",
        "    for j in range(cols):\n",
        "      Rec_Temp[i,j]=np.copy(Tout[0,j])\n",
        "\n",
        "  Ttest=np.copy(Tout)\n",
        "  Grab=0 #grab is evaluation: 0: no split, 1:start slit, 2:conclude split \n",
        "  #=====================\n",
        "  # part D: start get temperatures using informations build (A,B,C)\n",
        "  Cont=1\n",
        "  for ki in range(NPAR):\n",
        "    for kj in range(Trocas):\n",
        "      Cont=Cont+1\n",
        "      k=kj\n",
        "      if(kj==WhenSplit):\n",
        "        Cp=np.copy(mCpout)\n",
        "        grab=1\n",
        "      elif(kj==WhenSplit+1):\n",
        "        Cp=np.copy(mCpout)\n",
        "        grab=2\n",
        "      else:\n",
        "        Cp=np.copy(mCpin)\n",
        "        grab=0\n",
        "      \n",
        "      if(grab==2):\n",
        "        if(Hot==1):\n",
        "          i=Trocas-1\n",
        "          j=Ind_J[ki,kj]\n",
        "        else:\n",
        "          i=Ind_I[ki,kj]\n",
        "          j=Trocas-1\n",
        "      else:\n",
        "        i=Ind_I[ki,kj]\n",
        "        j=Ind_J[ki,kj]\n",
        "\n",
        "      \n",
        "      Tout,erro,Thot,Tcold=ChangeTemp(ki,kj,i,j,Tout,Cp,deltaT) \n",
        "\n",
        "      for j in range(Trocas):\n",
        "        Rec_Temp[Cont,j]=np.copy(Tout[0,j])\n",
        "\n",
        "      \n",
        "      if(grab==2):\n",
        "        Taux=Alpha*Tout[ki,Split]+(1-Alpha)*Tout[ki,Trocas-1]\n",
        "        Tout[ki,Trocas-1]=np.copy(Taux)\n",
        "        Tout[ki,Split]=np.copy(Taux)\n",
        "        Cont=Cont+1\n",
        "        for j in range(Trocas):\n",
        "          Rec_Temp[Cont,j]=np.copy(Tout[0,j])\n",
        "        Cont=Cont+1\n",
        "\n",
        "      if(grab == 0):\n",
        "        if(Hot==1):\n",
        "          Tout[ki,Trocas-1]=Tout[ki,Split]\n",
        "        else:\n",
        "          Tout[ki,Trocas-1]=Tout[ki,Split]\n",
        "\n",
        "      for j in range(cols):\n",
        "        Rec_Temp[Cont,j]=np.copy(Tout[0,j])\n",
        "\n",
        "\n",
        "    \n",
        "  return Tout,erro,Rec_Temp\n",
        "\n",
        "  # return Ind_I,Ind_J,deltaT, Split, WhenSplit, Alpha # fake return until test\n",
        "  # return Ind_I,Ind_J,deltaT, Split, WhenSplit, Alpha,Tin # fake return until test\n",
        "  # return Ind_I,Ind_J,deltaT, Split, WhenSplit, Alpha,Tin, mCpin # fake return until test\n",
        "  # return Ind_I,Ind_J,deltaT, Split, WhenSplit, Alpha,Tin, mCpin, mCpout # fake return until test"
      ],
      "execution_count": 0,
      "outputs": []
    },
    {
      "cell_type": "code",
      "metadata": {
        "id": "GQ5b6YgWLNqr",
        "colab_type": "code",
        "colab": {}
      },
      "source": [
        "def Utility(mCp,Rec_Temp,tempAlvo):\n",
        "\n",
        "  global tempFinal\n",
        "  df=pd.DataFrame(Rec_Temp)\n",
        "  num=len(mCp)\n",
        "  tempFinal=np.zeros((num))\n",
        "  row=len(df.iloc[:,0])\n",
        "  col=len(df.iloc[0,:])-1\n",
        "  for i in range(row):\n",
        "    for j in range(col):\n",
        "      tempFinal[j]=np.copy(df.iloc[i,j]) \n",
        "\n",
        "  cols=len(mCp)\n",
        "  NPAR=1\n",
        "  '''\n",
        "  caso I cita TUQin=553 e TQout=552, TUFin=303 TUFout=353\n",
        "  '''\n",
        "  TUQin=553\n",
        "  TUQout=552\n",
        "  TUFin=303 \n",
        "  TUFout=353\n",
        "  \n",
        "  Areas=[]\n",
        "  cargaUQtodas=[]\n",
        "  cargaUFtodas=[]\n",
        "\n",
        "  for ki in range(NPAR):\n",
        "    areaTrocador=[]\n",
        "    cargaUQ=0\n",
        "    cargaUF=0\n",
        "    for j in range(cols):\n",
        "      delta=tempAlvo[j]-tempFinal[j]\n",
        "      if(delta>0):#usa UQ\n",
        "        cargaUQ=cargaUQ+mCp[j]*delta\n",
        "        deltaT1=(TUQin-tempAlvo[j])\n",
        "        deltaT2=(TUQout-tempFinal[j])\n",
        "\n",
        "        try:\n",
        "          A=deltaT1-deltaT2\n",
        "          B=np.log(deltaT1/deltaT2)\n",
        "          deltaTMediaLog=A/B\n",
        "        except:\n",
        "          deltaTMediaLog=1e99\n",
        "\n",
        "        if(deltaTMediaLog==1e99):\n",
        "          areaTrocador.append(1e99)\n",
        "        else:\n",
        "          areaTrocador.append((abs(mCp[j]*(delta)/(U*deltaTMediaLog))))\n",
        "\n",
        "      elif(delta==0):#nao usa UF e UQ\n",
        "        deltaTMediaLog=0\n",
        "        areaTrocador.append(0) \n",
        "\n",
        "      else:#usa UF\n",
        "        deltaT1=(Tout[ki,j]-TUFout)\n",
        "        deltaT2=(tempAlvo[j]-TUFin)     \n",
        "        cargaUF=cargaUF+mCp[j]*(-delta)\n",
        "\n",
        "        #UF -> água resfriada -> entra a 303K e sai a 353K\n",
        "        try:\n",
        "          A=deltaT1-deltaT2\n",
        "          B=np.log(deltaT1/deltaT2)\n",
        "          deltaTMediaLog=A/B\n",
        "        except:\n",
        "          deltaTMediaLog=1e99\n",
        "        \n",
        "        if(deltaTMediaLog==1e99):\n",
        "          areaTrocador.append(1e99)\n",
        "        else:\n",
        "          areaTrocador.append((abs(mCp[j]*(-delta)/(U*deltaTMediaLog))))\n",
        "\n",
        "    cargaUQtodas.append(cargaUQ)\n",
        "    cargaUFtodas.append(cargaUF)\n",
        "\n",
        "    Areas.append(areaTrocador)\n",
        "\n",
        "  return Areas, cargaUQtodas,cargaUFtodas\n",
        "\n",
        "  # Areas, cargaUQtodas,cargaUFtodas=Utility(mCp,Rec_Temp,tempAlvo)"
      ],
      "execution_count": 0,
      "outputs": []
    },
    {
      "cell_type": "code",
      "metadata": {
        "colab_type": "code",
        "id": "LXHFFtlr7A0t",
        "colab": {}
      },
      "source": [
        "def SharkArea(x):\n",
        "  #global Trocas, mCp,tempInicial,tempAlvo,Ttest\n",
        "  global mCp,tempAlvo,tempInicial,Trocas,U,Trocas\n",
        "  global Rec_Cold,Rec_Hot,Rec_Tcold,Rec_Thot\n",
        "\n",
        "  global areaTrocadores # temporary (just for test)\n",
        "\n",
        "  \n",
        "  NPAR=1\n",
        "  \n",
        "  #Area=[]\n",
        "  Area_Particula=[]\n",
        "  Rec_Cold=[]\n",
        "  Rec_Hot=[]\n",
        "  Rec_Tcold=[]\n",
        "  Rec_Thot=[]\n",
        "\n",
        "  NPAR=1\n",
        "  Tin=np.zeros(Trocas)\n",
        "  Tout=np.zeros((NPAR,Trocas))\n",
        "  mCpin=np.zeros(Trocas)\n",
        "  \n",
        "  rows=Trocas \n",
        "  cols=Trocas\n",
        "  Rec_Temp=np.zeros((rows+4,cols))# four extra positions to better view and one to split\n",
        "\n",
        "  Ind_I,Ind_J,deltaT, Split, WhenSplit, Alpha=SharkBuildMatriz(x)\n",
        "\n",
        "\n",
        "  if(WhenSplit==Trocas-1):\n",
        "    Ind_1st=WhenSplit-2\n",
        "    Ind_2nd=Trocas-1\n",
        "  else:\n",
        "    Ind_1st=WhenSplit\n",
        "    Ind_2nd=Trocas-1\n",
        "  \n",
        "  #=====================\n",
        "  # part B: allocating split in cold or hot stream\n",
        "  # Hot=1 means hot stream is split\n",
        "  # Hot=0 means hot stream is not split (so cold stream is split)\n",
        "  if(tempInicial[Split]>tempAlvo[Split]): # hot stream is spliting\n",
        "    Hot=1 \n",
        "    Ind_I[0,Ind_1st]=Split # two streams are correct by split information\n",
        "    Ind_I[0,Ind_2nd]=Trocas-1 # two streams are correct by split information\n",
        "  else: # cold stream is spliting\n",
        "    Hot=0 \n",
        "    Ind_J[0,Ind_1st]=Split # two streams are correct by split information\n",
        "    Ind_J[0,Ind_2nd]=Trocas-1 # two streams are correct by split information\n",
        "\n",
        "  #=====================\n",
        "  # part C: bulding mCp with split values and temperatures with split values\n",
        "  for kk in range(Trocas-1):  # ???(Trocas-1) should be replaced by (Trocas-2)?\n",
        "    Tin[kk]=np.copy(tempInicial[kk])\n",
        "    mCpin[kk]=mCp[kk]\n",
        "\n",
        "  Tin[Trocas-1]=tempInicial[Split]\n",
        "  mCpin[Trocas-1]=mCpin[Split]    \n",
        "\n",
        "\n",
        "  mCpout=np.copy(mCpin)\n",
        "  if(Split==Trocas-1):\n",
        "    mCpout[Split-1]= Alpha*mCpin[Split]\n",
        "    mCpout[Split]= (1-Alpha)*mCpin[Split]\n",
        "  else:\n",
        "    mCpout[Split]=Alpha*mCpin[Split]\n",
        "    mCpout[Trocas-1]= (1-Alpha)*mCpin[Split]\n",
        "  \n",
        "\n",
        "  for ki in range(NPAR):\n",
        "    for kj in range(Trocas): \n",
        "      Tout[ki,kj]=np.copy(Tin[kj])\n",
        "\n",
        "  # Lists Rec_Temp is used to build graph \n",
        "  for i in range(2):\n",
        "    for j in range(cols):\n",
        "      Rec_Temp[i,j]=np.copy(Tout[0,j])\n",
        "\n",
        "  Ttest=np.copy(Tout)\n",
        "  Grab=0 #grab is evaluation: 0: no split, 1:start slit, 2:conclude split \n",
        "  #=====================\n",
        "  # part D: start get temperatures using informations build (A,B,C)\n",
        "  Cont=1\n",
        "  for ki in range(NPAR):\n",
        "    for kj in range(Trocas):\n",
        "      Cont=Cont+1\n",
        "      k=kj\n",
        "      if(kj==WhenSplit):\n",
        "        Cp=np.copy(mCpout)\n",
        "        grab=1\n",
        "      elif(kj==WhenSplit+1):\n",
        "        Cp=np.copy(mCpout)\n",
        "        grab=2\n",
        "      else:\n",
        "        Cp=np.copy(mCpin)\n",
        "        grab=0\n",
        "      \n",
        "      if(grab==2):\n",
        "        if(Hot==1):\n",
        "          i=Trocas-1\n",
        "          j=Ind_J[ki,kj]\n",
        "        else:\n",
        "          i=Ind_I[ki,kj]\n",
        "          j=Trocas-1\n",
        "      else:\n",
        "        i=Ind_I[ki,kj]\n",
        "        j=Ind_J[ki,kj]\n",
        "\n",
        "      \n",
        "      Tout,erro,Thot,Tcold=ChangeTemp(ki,kj,i,j,Tout,Cp,deltaT) \n",
        "\n",
        "      Told_i=Thot\n",
        "      Told_j=Tcold\n",
        "      tempSaidaQ=Tout[ki,i]\n",
        "      tempSaidaF=Tout[ki,j]\n",
        "      deltaT1=Told_i-tempSaidaF\n",
        "      deltaT2=tempSaidaQ-Told_j\n",
        "      Rec_Cold.append(deltaT2)\n",
        "      Rec_Tcold.append(tempSaidaF)\n",
        "      Rec_Hot.append(deltaT1)\n",
        "      Rec_Thot.append(tempSaidaQ)\n",
        "\n",
        "      try:\n",
        "        A=(deltaT1-deltaT2)\n",
        "        B=np.log((deltaT1/deltaT2))\n",
        "        deltaTMediaLog=A/B\n",
        "      except:\n",
        "        deltaTMediaLog=1e99\n",
        "    \n",
        "      if(deltaTMediaLog==1e99):\n",
        "        AreaCalc=1e99\n",
        "      else:\n",
        "        AreaCalc=abs(deltaT[0,i]*Cp[i]/(U*deltaTMediaLog))\n",
        "\n",
        "      if(Told_i==tempSaidaQ):\n",
        "        AreaCalc=0\n",
        "\n",
        "      if(Told_j==tempSaidaF):\n",
        "        AreaCalc=0\n",
        "      \n",
        "      AreaCalc=np.where(np.isnan(AreaCalc), 1e99, AreaCalc).ravel()\n",
        "\n",
        "      Area_Particula.append(AreaCalc)\n",
        "\n",
        "      for j in range(Trocas):\n",
        "        Rec_Temp[Cont,j]=np.copy(Tout[0,j])\n",
        "\n",
        "      \n",
        "      if(grab==2):\n",
        "        Taux=Alpha*Tout[ki,Split]+(1-Alpha)*Tout[ki,Trocas-1]\n",
        "        Tout[ki,Trocas-1]=np.copy(Taux)\n",
        "        Tout[ki,Split]=np.copy(Taux)\n",
        "        Cont=Cont+1\n",
        "        for j in range(Trocas):\n",
        "          Rec_Temp[Cont,j]=np.copy(Tout[0,j])\n",
        "        Cont=Cont+1\n",
        "\n",
        "      if(grab == 0):\n",
        "        if(Hot==1):\n",
        "          Tout[ki,Trocas-1]=Tout[ki,Split]\n",
        "        else:\n",
        "          Tout[ki,Trocas-1]=Tout[ki,Split]\n",
        "\n",
        "      for j in range(cols):\n",
        "        Rec_Temp[Cont,j]=np.copy(Tout[0,j])\n",
        "\n",
        "  \n",
        "    \n",
        "  return Area_Particula\n",
        "\n",
        "  # AreaCada=SharkArea(x)\n",
        "\n",
        "  # return Ind_I,Ind_J,deltaT, Split, WhenSplit, Alpha # fake return until test\n",
        "  # return Ind_I,Ind_J,deltaT, Split, WhenSplit, Alpha,Tin # fake return until test\n",
        "  # return Ind_I,Ind_J,deltaT, Split, WhenSplit, Alpha,Tin, mCpin # fake return until test\n",
        "  # return Ind_I,Ind_J,deltaT, Split, WhenSplit, Alpha,Tin, mCpin, mCpout # fake return until test"
      ],
      "execution_count": 0,
      "outputs": []
    },
    {
      "cell_type": "code",
      "metadata": {
        "id": "gv1ZudaGvEYt",
        "colab_type": "code",
        "colab": {}
      },
      "source": [
        "\n",
        "def CustoProcesso(Area,Utilidades,cargaUFtodas,cargaUQtodas):\n",
        "  global coefCustoUQ,coefCustoUF\n",
        "  \n",
        "  NPAR=1\n",
        "\n",
        "  cost=np.zeros((NPAR))\n",
        "  for i in range(NPAR):\n",
        "    cargaUQ=cargaUQtodas[i]\n",
        "    cargaUF=cargaUFtodas[i]\n",
        "    # areaTrocadores=Area[i]\n",
        "    # areaUtilidades=Utilidades[i]\n",
        "    areaTrocadores=Area\n",
        "    areaUtilidades=np.array(Utilidades).ravel()\n",
        "    costTrocadores=0\n",
        "    areaTrocadores=np.array(areaTrocadores)\n",
        "    # print('areaTrocadores=',areaTrocadores)\n",
        "    # print('areaUtilidades=',areaUtilidades)\n",
        "    for it in areaTrocadores:\n",
        "      for wii in areaUtilidades:\n",
        "        # print('==== **** ==== ****')\n",
        "        # print(wii);print(it)\n",
        "        if(it<1e99):\n",
        "          if(wii<1e99):\n",
        "            costTrocadores=costTrocadores+300*(it**0.5+wii**0.5)\n",
        "          else:\n",
        "            costTrocadores=1e99\n",
        "            break\n",
        "    costUQ=coefCustoUQ*cargaUQ\n",
        "    costUF=coefCustoUF*cargaUF\n",
        "    \n",
        "    if(costTrocadores==1e99):\n",
        "      cost[i]=1e99\n",
        "    else:\n",
        "      cost[i]=costUQ+costUF+costTrocadores\n",
        "      \n",
        "  return cost"
      ],
      "execution_count": 0,
      "outputs": []
    },
    {
      "cell_type": "code",
      "metadata": {
        "id": "lmPfZ7arakM1",
        "colab_type": "code",
        "colab": {}
      },
      "source": [
        "#FUN calcula o TAC para um determinado arranjo\n",
        "#  cada calculo é feito em uma funcao a parte Fun usa todas funcoes \n",
        "\n",
        "def FUN(x):\n",
        "\n",
        "  global mCp,tempAtual,tempAlvo,tempInicial,U,coefCustoUQ,coefCustoUF\n",
        "  \n",
        "  NPAR=1\n",
        "  \n",
        "  funr=np.zeros((NPAR))\n",
        "  cols=len(mCp)\n",
        "  Ind_I,Ind_J,deltaT, Split, WhenSplit, Alpha=SharkBuildMatriz(x)\n",
        "  #print('++++++++++++')\n",
        "  #print(x)\n",
        "  #x=np.array(x)\n",
        "  x = x.reshape(-1, 18)\n",
        "  #print('+++ after modification +++')\n",
        "  #print(x)\n",
        "  Tout,Erro,Rec_Temp= Temperatura(x)\n",
        "  #areaTrocadores=SharkArea(x)\n",
        "  AreaCada=SharkArea(x)\n",
        "  areaTrocadores=np.array(AreaCada).ravel()\n",
        "  #print('areaTrocadores=',areaTrocadores)\n",
        "  #print('inside FUN')\n",
        "  #print('AreaCada=',np.array(AreaCada).ravel())\n",
        "  #areaTrocadores=np.array(pd.DataFrame(AreaCada)).ravel()\n",
        "  \n",
        "  areaUtilidade, cargaUQ,cargaUF=Utility(mCp,Rec_Temp,tempAlvo)\n",
        "  cost=CustoProcesso(areaTrocadores,areaUtilidade,cargaUF,cargaUQ)\n",
        "  funr=cost\n",
        "\n",
        "  for k in range(NPAR):\n",
        "    if(Erro[k]>0):\n",
        "      funr[k]=1e99\n",
        "  funr = np.where(np.isnan(cost), 1e99, cost)\n",
        "\n",
        "  #funr=1e99 # fake line (temporary)\n",
        "  return funr "
      ],
      "execution_count": 0,
      "outputs": []
    },
    {
      "cell_type": "code",
      "metadata": {
        "id": "Dt6anZvATxzg",
        "colab_type": "code",
        "colab": {}
      },
      "source": [
        "#********************PROGRAMA PRINCIPAL*************************\n",
        "\n",
        "Trocas=5\n",
        "mCp=[4,2,1.5,3] #[kW/K]\n",
        "tempInicial=[453.0,393.0,523.0,533.0] #[K]\n",
        "tempAtual=np.copy(tempInicial) \n",
        "tempAlvo=[513.0,508.0,403.0,433.0] #[K]\n",
        "U=0.2 #[kW/(m2.K)]\n",
        "coefCustoUQ=110 #[$/(kW.ano)]\n",
        "coefCustoUF=12.2 #[$/(kW.ano)]\n",
        "\n",
        "# the last position in MAX and MIN vector represent which moment the split \n",
        "#    occur not which stream (split represent which stream) \n",
        "#    for this reason it reach larger value\n",
        "#MAX=np.array([3,3,3,3,3,3,3,3,3,3,0,0,0,0,0,1,3,4]) # ,1,3,4]) Alpha,Split,WhenSplit\n",
        "#MIN=np.array([0,0,0,0,0,0,0,0,0,0,-100,-100,-100,-100,-100,0,0,0])\n",
        "\n",
        "MAX=np.array([3,3,3,3,3,1,1,1,1,1,0,0,0,0,0,1,3,4]) # ,1,3,4]) Alpha,Split,WhenSplit\n",
        "MIN=np.array([2,2,2,2,2,0,0,0,0,0,-20,-20,-20,-20,-20,0,0,0])\n",
        "NPAR=1\n",
        "cols=int(3*Trocas+3)\n",
        "x=np.zeros((NPAR,cols))\n",
        "\n",
        "for i in range(NPAR):\n",
        "  for j in range(cols):\n",
        "    r=np.random.random()\n",
        "    x[i,j]=r*(MAX[j]-MIN[j])+MIN[j]\n",
        "\n",
        "\n",
        "\n",
        "\n",
        "\n",
        "bounds=[]\n",
        "for k in range(len(MAX)):\n",
        "  bounds.append((MIN[k],MAX[k]))\n",
        "\n",
        "\n",
        "#print(bounds)\n",
        "\n"
      ],
      "execution_count": 0,
      "outputs": []
    },
    {
      "cell_type": "code",
      "metadata": {
        "id": "K4uCBdRVKAOf",
        "colab_type": "code",
        "outputId": "94e80552-df72-45f5-91bd-09f883c98deb",
        "colab": {
          "base_uri": "https://localhost:8080/",
          "height": 173
        }
      },
      "source": [
        "\n",
        "Ttest=np.zeros((1,Trocas))\n",
        "\n",
        "Ind_I,Ind_J,deltaT, Split, WhenSplit, Alpha=SharkBuildMatriz(x)\n",
        "Tout,erro,Rec_Temp=Temperatura(x)\n",
        "\n",
        "print(Ind_I)\n",
        "print(Ind_J)\n",
        "print(deltaT)\n",
        "print('Split=',Split)\n",
        "print(Alpha)\n",
        "print(WhenSplit)\n",
        "print(\"#####------######\")\n",
        "print(Ttest)\n",
        "print(tempInicial)\n",
        "\n"
      ],
      "execution_count": 0,
      "outputs": [
        {
          "output_type": "stream",
          "text": [
            "[[3 3 3 2 2]]\n",
            "[[0 0 0 1 1]]\n",
            "[[-17.57324275 -19.30177956  -0.35151833  -8.09567362 -14.84265005]]\n",
            "Split= 2\n",
            "0.18633395493929394\n",
            "1\n",
            "#####------######\n",
            "[[453. 393. 523. 533. 523.]]\n",
            "[453.0, 393.0, 523.0, 533.0]\n"
          ],
          "name": "stdout"
        }
      ]
    },
    {
      "cell_type": "code",
      "metadata": {
        "id": "staDxSeFWyzK",
        "colab_type": "code",
        "outputId": "10f151ae-8698-4797-fce0-892b25f4aa04",
        "colab": {
          "base_uri": "https://localhost:8080/",
          "height": 243
        }
      },
      "source": [
        "\n",
        "print('=====================')\n",
        "Tout,erro,Rec_Temp =Temperatura(x)\n",
        "df=pd.DataFrame(Rec_Temp)\n",
        "print('*****',Tout)\n",
        "print(erro)\n",
        "print(df)\n"
      ],
      "execution_count": 0,
      "outputs": [
        {
          "output_type": "stream",
          "text": [
            "=====================\n",
            "***** [[480.24869496 416.27549797 511.02173092 515.42675725 511.02173092]]\n",
            "[0.]\n",
            "            0           1           2           3           4\n",
            "0  453.000000  393.000000  523.000000  533.000000  523.000000\n",
            "1  453.000000  393.000000  523.000000  533.000000  523.000000\n",
            "2  470.573243  393.000000  523.000000  515.426757  523.000000\n",
            "3  480.224133  393.000000  503.698220  515.426757  523.000000\n",
            "4  480.248695  393.000000  503.698220  515.426757  522.648482\n",
            "5  480.248695  393.000000  519.117405  515.426757  519.117405\n",
            "6  480.248695  393.000000  519.117405  515.426757  519.117405\n",
            "7  480.248695  405.143510  511.021731  515.426757  511.021731\n",
            "8  480.248695  416.275498  511.021731  515.426757  511.021731\n"
          ],
          "name": "stdout"
        }
      ]
    },
    {
      "cell_type": "code",
      "metadata": {
        "id": "ouDIo9TxD5Tm",
        "colab_type": "code",
        "outputId": "09d19763-4d68-443f-98a6-0d88464b43b8",
        "colab": {
          "base_uri": "https://localhost:8080/",
          "height": 35
        }
      },
      "source": [
        "print(deltaT)"
      ],
      "execution_count": 0,
      "outputs": [
        {
          "output_type": "stream",
          "text": [
            "[[-17.57324275 -19.30177956  -0.35151833  -8.09567362 -14.84265005]]\n"
          ],
          "name": "stdout"
        }
      ]
    },
    {
      "cell_type": "code",
      "metadata": {
        "id": "A-E5HgBaPVC-",
        "colab_type": "code",
        "outputId": "268f6853-af6e-4908-d1e7-e1a80b2807b8",
        "colab": {
          "base_uri": "https://localhost:8080/",
          "height": 104
        }
      },
      "source": [
        "Areas, cargaUQtodas,cargaUFtodas=Utility(mCp,Rec_Temp,tempAlvo)\n",
        "print('Areas=',Areas)\n",
        "print('cargaUQtodas=',cargaUQtodas)\n",
        "print('cargaUFtodas=',cargaUFtodas)\n",
        "print('tempFinal=',tempFinal)\n",
        "print('tempAlvo=',tempAlvo)"
      ],
      "execution_count": 0,
      "outputs": [
        {
          "output_type": "stream",
          "text": [
            "Areas= [[12.054596394724001, 11.161329393893979, 6.388987234612943, 8.491061433228905]]\n",
            "cargaUQtodas= [314.454224235757]\n",
            "cargaUFtodas= [409.31286813498707]\n",
            "tempFinal= [480.24869496 416.27549797 511.02173092 515.42675725]\n",
            "tempAlvo= [513.0, 508.0, 403.0, 433.0]\n"
          ],
          "name": "stdout"
        }
      ]
    },
    {
      "cell_type": "code",
      "metadata": {
        "id": "S80QizOyk77C",
        "colab_type": "code",
        "outputId": "f4e71320-7868-4400-8da8-c5c1ec6b4b48",
        "colab": {
          "base_uri": "https://localhost:8080/",
          "height": 35
        }
      },
      "source": [
        "print(WhenSplit)"
      ],
      "execution_count": 0,
      "outputs": [
        {
          "output_type": "stream",
          "text": [
            "1\n"
          ],
          "name": "stdout"
        }
      ]
    },
    {
      "cell_type": "code",
      "metadata": {
        "id": "z4RyeYueqKN1",
        "colab_type": "code",
        "outputId": "f1d6cfd7-fd06-4820-c294-fdf0a5798cf2",
        "colab": {
          "base_uri": "https://localhost:8080/",
          "height": 301
        }
      },
      "source": [
        "#df = df[:-1]\n",
        "Imagem=len(df.iloc[:,0]) # Imagens+5 to get better graph postions\n",
        "Change=range(Imagem)\n",
        "for k in range(Trocas):\n",
        "  plt.plot(Change,df.iloc[:,k])\n",
        "\n",
        "plt.xlabel('Stages')\n",
        "plt.ylabel('Temperature (K)')"
      ],
      "execution_count": 0,
      "outputs": [
        {
          "output_type": "execute_result",
          "data": {
            "text/plain": [
              "Text(0, 0.5, 'Temperature (K)')"
            ]
          },
          "metadata": {
            "tags": []
          },
          "execution_count": 17
        },
        {
          "output_type": "display_data",
          "data": {
            "image/png": "[encoded data removed]",
            "text/plain": [
              "<Figure size 432x288 with 1 Axes>"
            ]
          },
          "metadata": {
            "tags": [],
            "needs_background": "light"
          }
        }
      ]
    },
    {
      "cell_type": "code",
      "metadata": {
        "id": "Rq6zaln-6cGn",
        "colab_type": "code",
        "outputId": "4c89e0c6-9f1f-4c71-e15a-1bc1c943c4c4",
        "colab": {
          "base_uri": "https://localhost:8080/",
          "height": 191
        }
      },
      "source": [
        "print(df)"
      ],
      "execution_count": 0,
      "outputs": [
        {
          "output_type": "stream",
          "text": [
            "            0           1           2           3           4\n",
            "0  453.000000  393.000000  523.000000  533.000000  523.000000\n",
            "1  453.000000  393.000000  523.000000  533.000000  523.000000\n",
            "2  470.573243  393.000000  523.000000  515.426757  523.000000\n",
            "3  480.224133  393.000000  503.698220  515.426757  523.000000\n",
            "4  480.248695  393.000000  503.698220  515.426757  522.648482\n",
            "5  480.248695  393.000000  519.117405  515.426757  519.117405\n",
            "6  480.248695  393.000000  519.117405  515.426757  519.117405\n",
            "7  480.248695  405.143510  511.021731  515.426757  511.021731\n",
            "8  480.248695  416.275498  511.021731  515.426757  511.021731\n"
          ],
          "name": "stdout"
        }
      ]
    },
    {
      "cell_type": "code",
      "metadata": {
        "id": "r1Uf0lNsfPAf",
        "colab_type": "code",
        "colab": {}
      },
      "source": [
        "#print(Rec_Tcold)\n",
        "#print(Rec_Thot)"
      ],
      "execution_count": 0,
      "outputs": []
    },
    {
      "cell_type": "code",
      "metadata": {
        "id": "stkxAEVg9kcg",
        "colab_type": "code",
        "outputId": "cb2b3c16-6135-4c1f-8681-162fd1e9a77b",
        "colab": {
          "base_uri": "https://localhost:8080/",
          "height": 69
        }
      },
      "source": [
        "print(Split)\n",
        "print(WhenSplit)\n",
        "print(tempInicial)\n"
      ],
      "execution_count": 0,
      "outputs": [
        {
          "output_type": "stream",
          "text": [
            "2\n",
            "1\n",
            "[453.0, 393.0, 523.0, 533.0]\n"
          ],
          "name": "stdout"
        }
      ]
    },
    {
      "cell_type": "code",
      "metadata": {
        "id": "98ebmeBd6e5L",
        "colab_type": "code",
        "outputId": "c162ae18-e15b-449a-8043-62da372e775d",
        "colab": {
          "base_uri": "https://localhost:8080/",
          "height": 141
        }
      },
      "source": [
        "\n",
        "fobj=FUN\n",
        "mut=0.5\n",
        "crossp=0.5\n",
        "NPAR=600\n",
        "its=2000\n",
        "cols=18\n",
        "x=np.zeros((NPAR,cols))\n",
        "for i in range(NPAR):\n",
        "  for j in range(cols):\n",
        "    r=np.random.random()\n",
        "    x[i,j]=r*(MAX[j]-MIN[j])+MIN[j]\n",
        "\n",
        "x,BEST,FOBEST,XY,BEST_XY=de_bounds_matriz.de(bounds, mut, crossp, \n",
        "                                             NPAR, its,fobj,x)\n"
      ],
      "execution_count": 0,
      "outputs": [
        {
          "output_type": "stream",
          "text": [
            "/usr/local/lib/python3.6/dist-packages/ipykernel_launcher.py:125: RuntimeWarning: invalid value encountered in double_scalars\n",
            "/usr/local/lib/python3.6/dist-packages/ipykernel_launcher.py:5: RuntimeWarning: divide by zero encountered in double_scalars\n",
            "  \"\"\"\n",
            "/usr/local/lib/python3.6/dist-packages/ipykernel_launcher.py:5: RuntimeWarning: invalid value encountered in double_scalars\n",
            "  \"\"\"\n",
            "/usr/local/lib/python3.6/dist-packages/ipykernel_launcher.py:124: RuntimeWarning: invalid value encountered in double_scalars\n"
          ],
          "name": "stderr"
        }
      ]
    },
    {
      "cell_type": "code",
      "metadata": {
        "id": "H1vR1CCOfG2S",
        "colab_type": "code",
        "outputId": "5bd9805f-a92a-46da-e6b7-a4d8af78ab93",
        "colab": {
          "base_uri": "https://localhost:8080/",
          "height": 87
        }
      },
      "source": [
        "print(BEST)"
      ],
      "execution_count": 0,
      "outputs": [
        {
          "output_type": "stream",
          "text": [
            "[  2.5344169    2.88039608   2.94447089   2.340278     2.05284497\n",
            "   0.3310661    0.78536825   0.95173885   1.           0.90084521\n",
            " -20.         -20.         -20.           0.         -20.\n",
            "   0.           0.           2.96134283]\n"
          ],
          "name": "stdout"
        }
      ]
    },
    {
      "cell_type": "code",
      "metadata": {
        "id": "6hyOxTBGfbg4",
        "colab_type": "code",
        "outputId": "98b67824-c644-4364-defe-d3de6fab482b",
        "colab": {
          "base_uri": "https://localhost:8080/",
          "height": 713
        }
      },
      "source": [
        "xbest=BEST\n",
        "print('=====================')\n",
        "Tout,erro,Rec_Temp =Temperatura(xbest)\n",
        "df=pd.DataFrame(Rec_Temp)\n",
        "print('*****',Tout)\n",
        "print(erro)\n",
        "print(df)"
      ],
      "execution_count": 0,
      "outputs": [
        {
          "output_type": "stream",
          "text": [
            "=====================\n",
            "***** [[493. 428. 503. 473. 493.]]\n",
            "[0. 0. 0. 0. 0. 0. 0. 0. 0. 0. 0. 0. 0. 0. 0. 0. 0. 0. 0. 0. 0. 0. 0. 0.\n",
            " 0. 0. 0. 0. 0. 0. 0. 0. 0. 0. 0. 0. 0. 0. 0. 0. 0. 0. 0. 0. 0. 0. 0. 0.\n",
            " 0. 0. 0. 0. 0. 0. 0. 0. 0. 0. 0. 0. 0. 0. 0. 0. 0. 0. 0. 0. 0. 0. 0. 0.\n",
            " 0. 0. 0. 0. 0. 0. 0. 0. 0. 0. 0. 0. 0. 0. 0. 0. 0. 0. 0. 0. 0. 0. 0. 0.\n",
            " 0. 0. 0. 0. 0. 0. 0. 0. 0. 0. 0. 0. 0. 0. 0. 0. 0. 0. 0. 0. 0. 0. 0. 0.\n",
            " 0. 0. 0. 0. 0. 0. 0. 0. 0. 0. 0. 0. 0. 0. 0. 0. 0. 0. 0. 0. 0. 0. 0. 0.\n",
            " 0. 0. 0. 0. 0. 0. 0. 0. 0. 0. 0. 0. 0. 0. 0. 0. 0. 0. 0. 0. 0. 0. 0. 0.\n",
            " 0. 0. 0. 0. 0. 0. 0. 0. 0. 0. 0. 0. 0. 0. 0. 0. 0. 0. 0. 0. 0. 0. 0. 0.\n",
            " 0. 0. 0. 0. 0. 0. 0. 0. 0. 0. 0. 0. 0. 0. 0. 0. 0. 0. 0. 0. 0. 0. 0. 0.\n",
            " 0. 0. 0. 0. 0. 0. 0. 0. 0. 0. 0. 0. 0. 0. 0. 0. 0. 0. 0. 0. 0. 0. 0. 0.\n",
            " 0. 0. 0. 0. 0. 0. 0. 0. 0. 0. 0. 0. 0. 0. 0. 0. 0. 0. 0. 0. 0. 0. 0. 0.\n",
            " 0. 0. 0. 0. 0. 0. 0. 0. 0. 0. 0. 0. 0. 0. 0. 0. 0. 0. 0. 0. 0. 0. 0. 0.\n",
            " 0. 0. 0. 0. 0. 0. 0. 0. 0. 0. 0. 0. 0. 0. 0. 0. 0. 0. 0. 0. 0. 0. 0. 0.\n",
            " 0. 0. 0. 0. 0. 0. 0. 0. 0. 0. 0. 0. 0. 0. 0. 0. 0. 0. 0. 0. 0. 0. 0. 0.\n",
            " 0. 0. 0. 0. 0. 0. 0. 0. 0. 0. 0. 0. 0. 0. 0. 0. 0. 0. 0. 0. 0. 0. 0. 0.\n",
            " 0. 0. 0. 0. 0. 0. 0. 0. 0. 0. 0. 0. 0. 0. 0. 0. 0. 0. 0. 0. 0. 0. 0. 0.\n",
            " 0. 0. 0. 0. 0. 0. 0. 0. 0. 0. 0. 0. 0. 0. 0. 0. 0. 0. 0. 0. 0. 0. 0. 0.\n",
            " 0. 0. 0. 0. 0. 0. 0. 0. 0. 0. 0. 0. 0. 0. 0. 0. 0. 0. 0. 0. 0. 0. 0. 0.\n",
            " 0. 0. 0. 0. 0. 0. 0. 0. 0. 0. 0. 0. 0. 0. 0. 0. 0. 0. 0. 0. 0. 0. 0. 0.\n",
            " 0. 0. 0. 0. 0. 0. 0. 0. 0. 0. 0. 0. 0. 0. 0. 0. 0. 0. 0. 0. 0. 0. 0. 0.\n",
            " 0. 0. 0. 0. 0. 0. 0. 0. 0. 0. 0. 0. 0. 0. 0. 0. 0. 0. 0. 0. 0. 0. 0. 0.\n",
            " 0. 0. 0. 0. 0. 0. 0. 0. 0. 0. 0. 0. 0. 0. 0. 0. 0. 0. 0. 0. 0. 0. 0. 0.\n",
            " 0. 0. 0. 0. 0. 0. 0. 0. 0. 0. 0. 0. 0. 0. 0. 0. 0. 0. 0. 0. 0. 0. 0. 0.\n",
            " 0. 0. 0. 0. 0. 0. 0. 0. 0. 0. 0. 0. 0. 0. 0. 0. 0. 0. 0. 0. 0. 0. 0. 0.\n",
            " 0. 0. 0. 0. 0. 0. 0. 0. 0. 0. 0. 0. 0. 0. 0. 0. 0. 0. 0. 0. 0. 0. 0. 0.]\n",
            "       0      1      2      3      4\n",
            "0  453.0  393.0  523.0  533.0  453.0\n",
            "1  453.0  393.0  523.0  533.0  453.0\n",
            "2  473.0  393.0  523.0  513.0  473.0\n",
            "3  473.0  413.0  523.0  493.0  473.0\n",
            "4  473.0  428.0  523.0  473.0  473.0\n",
            "5  473.0  428.0  523.0  473.0  473.0\n",
            "6  473.0  428.0  503.0  473.0  493.0\n",
            "7  493.0  428.0  503.0  473.0  493.0\n",
            "8  493.0  428.0  503.0  473.0  493.0\n"
          ],
          "name": "stdout"
        },
        {
          "output_type": "stream",
          "text": [
            "/usr/local/lib/python3.6/dist-packages/ipykernel_launcher.py:5: RuntimeWarning: invalid value encountered in double_scalars\n",
            "  \"\"\"\n"
          ],
          "name": "stderr"
        }
      ]
    },
    {
      "cell_type": "code",
      "metadata": {
        "id": "ucmPFbcPf0fz",
        "colab_type": "code",
        "outputId": "5c108903-f6e3-4ef1-a873-cd34870bf869",
        "colab": {
          "base_uri": "https://localhost:8080/",
          "height": 301
        }
      },
      "source": [
        "Imagem=len(df.iloc[:,0]) # Imagens+5 to get better graph postions\n",
        "Change=range(Imagem)\n",
        "for k in range(Trocas):\n",
        "  plt.plot(Change,df.iloc[:,k])\n",
        "\n",
        "plt.xlabel('Stages')\n",
        "plt.ylabel('Temperature (K)')"
      ],
      "execution_count": 0,
      "outputs": [
        {
          "output_type": "execute_result",
          "data": {
            "text/plain": [
              "Text(0, 0.5, 'Temperature (K)')"
            ]
          },
          "metadata": {
            "tags": []
          },
          "execution_count": 24
        },
        {
          "output_type": "display_data",
          "data": {
            "image/png": "[encoded data removed]",
            "text/plain": [
              "<Figure size 432x288 with 1 Axes>"
            ]
          },
          "metadata": {
            "tags": [],
            "needs_background": "light"
          }
        }
      ]
    }
  ]
}