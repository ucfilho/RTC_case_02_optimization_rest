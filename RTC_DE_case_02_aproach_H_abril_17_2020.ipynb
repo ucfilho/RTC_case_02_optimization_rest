{
  "nbformat": 4,
  "nbformat_minor": 0,
  "metadata": {
    "colab": {
      "name": "RTC_DE_case_02_aproach_H_abril_17_2020.ipynb",
      "provenance": [],
      "collapsed_sections": [],
      "include_colab_link": true
    },
    "kernelspec": {
      "name": "python3",
      "display_name": "Python 3"
    }
  },
  "cells": [
    {
      "cell_type": "markdown",
      "metadata": {
        "id": "view-in-github",
        "colab_type": "text"
      },
      "source": [
        "<a href=\"https://colab.research.google.com/github/ucfilho/RTC_case_02_optimization/blob/master/RTC_DE_case_02_aproach_H_abril_17_2020.ipynb\" target=\"_parent\"><img src=\"https://colab.research.google.com/assets/colab-badge.svg\" alt=\"Open In Colab\"/></a>"
      ]
    },
    {
      "cell_type": "code",
      "metadata": {
        "id": "wGzR2VpcZHYA",
        "colab_type": "code",
        "colab": {}
      },
      "source": [
        "import pandas as pd\n",
        "from scipy.optimize import differential_evolution\n",
        "import numpy as np\n",
        "import matplotlib.pyplot as plt"
      ],
      "execution_count": 0,
      "outputs": []
    },
    {
      "cell_type": "code",
      "metadata": {
        "id": "MjqwkVE67u2g",
        "colab_type": "code",
        "outputId": "b021eb19-8df6-4f02-8e3a-6da9e2f6ebf5",
        "colab": {
          "base_uri": "https://localhost:8080/",
          "height": 50
        }
      },
      "source": [
        "!git clone https://github.com/ucfilho/raianars_RTC_optimization #clonar do Github\n",
        "%cd raianars_RTC_optimization\n",
        "import de_bounds_matriz"
      ],
      "execution_count": 0,
      "outputs": [
        {
          "output_type": "stream",
          "text": [
            "fatal: destination path 'raianars_RTC_optimization' already exists and is not an empty directory.\n",
            "/content/raianars_RTC_optimization\n"
          ],
          "name": "stdout"
        }
      ]
    },
    {
      "cell_type": "code",
      "metadata": {
        "id": "7ZTyQ1iWgChp",
        "colab_type": "code",
        "colab": {}
      },
      "source": [
        "# keep the split stream in last position ?????"
      ],
      "execution_count": 0,
      "outputs": []
    },
    {
      "cell_type": "code",
      "metadata": {
        "colab_type": "code",
        "id": "M3ougpFws_w9",
        "colab": {}
      },
      "source": [
        "def SharkBuildMatriz(x):\n",
        "  # Ind_I,Ind_J,deltaT, Split, WhenSplit, Alpha=SharkBuildMatriz(x)\n",
        "  # add one position in three variables (Ind_J,Ind_I,deltaT)\n",
        "  # Alfa and Split (split choose the moment and alpha the fraction)\n",
        "  # Split=which stream\n",
        "  # Alfa=fraction \n",
        "  \n",
        "  global Trocas\n",
        "  NPAR=1\n",
        "  #cols=len(tempInicial)\n",
        "  size=int(3*Trocas+3) # number 3 represent split, alfa and WhenSplit\n",
        "  # add one exchange\n",
        "  x=np.array(x).reshape(1,size)\n",
        "  # print('x=');print(x)\n",
        "  Ind_I=np.zeros((NPAR,Trocas)).astype(np.int64)\n",
        "  Ind_J=np.zeros((NPAR,Trocas)).astype(np.int64)\n",
        "  \n",
        "  Tout=np.zeros((NPAR,Trocas))\n",
        "  deltaT=np.zeros((NPAR,Trocas))\n",
        "  for i in range(NPAR):\n",
        "    Alpha=x[i,size-3]\n",
        "    Split=round(x[i,size-2]).astype(np.int64)\n",
        "    WhenSplit=round(x[i,size-1]).astype(np.int64)\n",
        "    for j in range(Trocas):\n",
        "      #print('[i,j]=%d %d'%(i,j))\n",
        "      Ind_I[i,j]=round(x[i,j])\n",
        "      Ind_J[i,j]=round(x[i,j+Trocas])\n",
        "      deltaT[i,j]=x[i,j+2*Trocas] \n",
        "    '''\n",
        "    for jj in range(cols):\n",
        "      Tin[i,jj]=tempInicial[jj]\n",
        "      Tout[i,jj]=tempAtual[jj]\n",
        "    '''\n",
        "\n",
        "  return Ind_I,Ind_J,deltaT, Split, WhenSplit, Alpha\n",
        "  #Ind_I,Ind_J,deltaT, Split, WhenSplit, Alpha=SharkBuildMatriz(x)"
      ],
      "execution_count": 0,
      "outputs": []
    },
    {
      "cell_type": "code",
      "metadata": {
        "id": "ntyNIdA4Rwuk",
        "colab_type": "code",
        "outputId": "8df89137-19c9-4473-95bc-7786618ce82c",
        "colab": {
          "base_uri": "https://localhost:8080/",
          "height": 54
        }
      },
      "source": [
        "'''\n",
        "def FixSplit(x):\n",
        "  \n",
        "  global Trocas, mCp,  tempInicial, tempAtual, tempAlvo \n",
        "  Ind_I,Ind_J,deltaT, Split, WhenSplit, Alpha=SharkBuildMatriz(x)\n",
        "  if(tempInicial[Split]>tempAlvo[Split]):\n",
        "'''"
      ],
      "execution_count": 0,
      "outputs": [
        {
          "output_type": "execute_result",
          "data": {
            "text/plain": [
              "'\\ndef FixSplit(x):\\n  \\n  global Trocas, mCp,  tempInicial, tempAtual, tempAlvo \\n  Ind_I,Ind_J,deltaT, Split, WhenSplit, Alpha=SharkBuildMatriz(x)\\n  if(tempInicial[Split]>tempAlvo[Split]):\\n'"
            ]
          },
          "metadata": {
            "tags": []
          },
          "execution_count": 4
        }
      ]
    },
    {
      "cell_type": "code",
      "metadata": {
        "id": "lmPfZ7arakM1",
        "colab_type": "code",
        "colab": {}
      },
      "source": [
        "#FUN calcula o TAC para um determinado arranjo\n",
        "#  cada calculo é feito em uma funcao a parte Fun usa todas funcoes \n",
        "\n",
        "def FUN(x):\n",
        "\n",
        "  global mCp,tempAtual,tempAlvo,tempInicial,U,coefCustoUQ,coefCustoUF\n",
        "  \n",
        "  NPAR=1\n",
        "  '''\n",
        "  funr=np.zeros((NPAR))\n",
        "  cols=len(mCp)\n",
        "  Ind_I,Ind_J,deltaT, Tin, Tout=buildMatriz(x) # transforma x em matriz logica e troca\n",
        "  Tout, Erro=Temperatura(x)\n",
        "  areaTrocadores =Area(x)\n",
        "  areaUtilidade, cargaUQ,cargaUF = Utilidades(tempAlvo,Tout,mCp)\n",
        "  cost=CustoProcesso(areaTrocadores,areaUtilidade,cargaUF,cargaUQ)\n",
        "  funr=cost\n",
        "\n",
        "  for k in range(NPAR):\n",
        "    if(Erro[k]>0):\n",
        "      funr[k]=1e99\n",
        "  funr = np.where(np.isnan(cost), 1e99, cost)\n",
        "  '''\n",
        "  funr=1e99 # fake line (temporary)\n",
        "  return funr "
      ],
      "execution_count": 0,
      "outputs": []
    },
    {
      "cell_type": "code",
      "metadata": {
        "id": "Ha_XxG-tT7yB",
        "colab_type": "code",
        "colab": {}
      },
      "source": [
        "def Temperatura(x):\n",
        "  global Trocas, mCp,tempInicial,tempAlvo\n",
        "  \n",
        "  #print(tempInicial)\n",
        "  NPAR=1\n",
        "  Tin=np.zeros(Trocas)\n",
        "  Tout=np.zeros((NPAR,Trocas))\n",
        "  mCpin=np.zeros(Trocas)\n",
        "  erro=np.zeros((NPAR)) # erro=1 if there  is an error : penalties\n",
        "  rows=Trocas \n",
        "  cols=Trocas\n",
        "  Rec_Temp=np.zeros((rows+5,cols))# four extra positions to better view and one to split\n",
        "\n",
        "  Ind_I,Ind_J,deltaT, Split, WhenSplit, Alpha=SharkBuildMatriz(x)\n",
        "  # the parts A, B, C, and D of this routine \n",
        "  #     build informations to use x random population or individual (A,B, and C)\n",
        "  #     use the built information (D)\n",
        "  #=====================\n",
        "  # part A: converting WhenSplit in two sequential exchanges (split stream)\n",
        "  # if WhenSplit is the last it can allocate a position before the last \n",
        "  # but it is allocate in a position in advance in other conditions\n",
        "  if(WhenSplit==Trocas-1):\n",
        "    Ind_1st=WhenSplit-1\n",
        "    Ind_2nd=WhenSplit\n",
        "  else:\n",
        "    Ind_1st=WhenSplit\n",
        "    Ind_2nd=WhenSplit+1\n",
        "  \n",
        "  #=====================\n",
        "  # part B: allocating split in cold or hot stream\n",
        "  # Hot=1 means hot stream is split\n",
        "  # Hot=0 means hot stream is not split (so cold stream is split)\n",
        "  if(tempInicial[Split]>tempAlvo[Split]): # hot stream is spliting\n",
        "    Hot=1 \n",
        "    Ind_I[0,Ind_1st]=Split # two streams are correct by split information\n",
        "    Ind_I[0,Ind_2nd]=Split # two streams are correct by split information\n",
        "  else: # cold stream is spliting\n",
        "    Hot=0 \n",
        "    Ind_J[0,Ind_1st]=Split # two streams are correct by split information\n",
        "    Ind_J[0,Ind_2nd]=Split # two streams are correct by split information\n",
        "\n",
        "  #=====================\n",
        "  # part C: bulding mCp with split values and temperatures with split values\n",
        "  for kk in range(Trocas-1):\n",
        "    Tin[kk]=tempInicial[kk]\n",
        "    mCpin[kk]=mCp[kk]\n",
        "\n",
        "  Tin[Trocas-1]=tempInicial[Trocas-2]\n",
        "  mCpin[Trocas-1]=mCpin[Trocas-2]\n",
        "\n",
        "  Aux=np.copy(Tin)\n",
        "  Aux_cp=np.copy(mCpin)      \n",
        "  for k in range(Split,Trocas-1):\n",
        "    Tin[k+1]=Aux[k]\n",
        "    mCpin[k+1]=Aux_cp[k]\n",
        "\n",
        "  mCpout=np.copy(mCpin)\n",
        "  if(Split==Trocas-1):\n",
        "    mCpout[Split-1]= Alpha*mCpout[Split-2]\n",
        "    mCpout[Split]= (1-Alpha)*mCpout[Split-1]\n",
        "  else:\n",
        "    mCpout[Split]=Alpha*mCpout[Split]\n",
        "    mCpout[Split+1]= (1-Alpha)*mCpout[Split+1]\n",
        "  \n",
        "\n",
        "  for ki in range(NPAR):\n",
        "    for kj in range(Trocas): \n",
        "      Tout[ki,kj]=Tin[kj]\n",
        "\n",
        "  # Lists Rec_Temp is used to build graph \n",
        "  for i in range(2):\n",
        "    for j in range(cols):\n",
        "      Rec_Temp[i,j]=np.copy(Tout[0,j])\n",
        "\n",
        "  Grab=0 #grab is evaluation: 0: no split, 1:start slit, 2:conclude split \n",
        "  #=====================\n",
        "  # part D: start get temperatures using informations build (A,B,C)\n",
        "  Cont=1\n",
        "  for ki in range(NPAR):\n",
        "    for kj in range(Trocas):\n",
        "      Cont=Cont+1\n",
        "      k=kj\n",
        "      i=Ind_I[ki,kj]\n",
        "      j=Ind_J[ki,kj]\n",
        "\n",
        "      if(kj==WhenSplit):\n",
        "        Cp=np.copy(mCpout)\n",
        "        grab=1\n",
        "      elif(kj==WhenSplit+1):\n",
        "        Cp=np.copy(mCpout)\n",
        "        grab=2\n",
        "      else:\n",
        "        Cp=np.copy(mCpin)\n",
        "        grab=0\n",
        "\n",
        "      if(WhenSplit==Trocas-1):\n",
        "        if(kj==Trocas-2):\n",
        "          Cp=np.copy(mCpout)\n",
        "          grab=1\n",
        "        elif(kj==Trocas-1):\n",
        "          Cp=np.copy(mCpout)\n",
        "          grab=2\n",
        "        else:\n",
        "          Cp=np.copy(mCpin)\n",
        "          grab=0\n",
        "     \n",
        "      tempSaidaQ=Tout[ki,i]+deltaT[ki,kj]\n",
        "      tempSaidaF=-Cp[kj]*deltaT[ki,kj]/(Cp[j])+Tout[ki,j]\n",
        "      #print(\"===%f ====%f\"%(tempSaidaF,tempSaidaQ))\n",
        "      flag=0 # flag : logical test\n",
        "      # flag instead of several ifs provided better identation (in this case)\n",
        "      if(Tout[ki,i] > Tout[ki,j]): #Tquente maior Tfria: vaores atuais\n",
        "        if(tempSaidaQ > tempSaidaF): #Tquente maior Tfria: saidas\n",
        "          flag=1\n",
        "      if(flag>0):\n",
        "        Thot=np.copy(Tout[ki,i]) # value used to return original value (if request)\n",
        "        Tcold=np.copy(Tout[ki,j]) # value used to return original value (if request)\n",
        "        Tout[ki,i]=tempSaidaQ\n",
        "        Tout[ki,j]=tempSaidaF\n",
        "      else:\n",
        "        erro[ki]=1\n",
        "      \n",
        "      if(grab==2):\n",
        "        Tout[ki,i]=np.copy(Thot) # return original value\n",
        "        Tout[ki,j]=np.copy(Tcold) # return original value\n",
        "        if(kj==Trocas-1):\n",
        "          if(Hot==1):\n",
        "        tempSaidaQ=Tout[ki,i]+deltaT[ki,kj]\n",
        "        tempSaidaF=-Cp[kj]*deltaT[ki,kj]/(Cp[j])+Tout[ki,j+1]\n",
        "\n",
        "        if(flag>0):\n",
        "\n",
        "        if(WhenSplit==Trocas-1):\n",
        "          if(Hot==1):\n",
        "            i_1st=Ind_I[ki,Trocas-2]\n",
        "            i_2nd=Ind_I[ki,Trocas-1]\n",
        "          else:\n",
        "            i_1st=Ind_J[ki,Trocas-2]\n",
        "            i_2nd=Ind_J[ki,Trocas-1]\n",
        "\n",
        "          Taux=Alpha*Tout[ki,i_1st]+(1-Alpha)*Tout[ki,i_1st]\n",
        "          \n",
        "          if(Hot==1):\n",
        "            i_1st=Ind_I[ki,Trocas-2]\n",
        "            # i_1st=Trocas-2\n",
        "            i_2nd=Ind_I[ki,Trocas-1]\n",
        "            # i_2nd=Trocas-1\n",
        "            Tout[ki,i_1st]=Taux\n",
        "            Tout[ki,i_2nd]=Taux\n",
        "          else:\n",
        "            j_1st=Ind_J[ki,Trocas-2]\n",
        "            j_2nd=Ind_J[ki,Trocas-1]\n",
        "            Tout[ki,j_1st]=Taux\n",
        "            Tout[ki,j_2nd]=Taux\n",
        "        else: # if(WhenSplit==Trocas-1):\n",
        "          i=WhenSplit\n",
        "          Taux=Alpha*Tout[ki,i]+(1-Alpha)*Tout[ki,i+1]\n",
        "          print('==== Taux=',Taux)\n",
        "          if(Hot==1):\n",
        "            i_1st=Ind_I[ki,i]\n",
        "            i_2nd=Ind_I[ki,i+1]\n",
        "            Tout[ki,i_1st]=Taux\n",
        "            Tout[ki,i_2nd]=Taux\n",
        "          else:\n",
        "            j_1st=Ind_J[ki,i]\n",
        "            j_2nd=Ind_J[ki,i+1]\n",
        "            Tout[ki,j_1st]=Taux\n",
        "            Tout[ki,j_2nd]=Taux\n",
        "            \n",
        "      \n",
        "      for j in range(cols):\n",
        "        Rec_Temp[Cont,j]=np.copy(Tout[0,j])\n",
        " \n",
        "  for j in range(cols):\n",
        "    Rec_Temp[Cont+1,j]=np.copy(Tout[0,j])\n",
        "    Rec_Temp[Cont+2,j]=np.copy(Tout[0,j])\n",
        "    \n",
        "  return Tout,erro,Rec_Temp\n",
        "\n",
        "  # return Ind_I,Ind_J,deltaT, Split, WhenSplit, Alpha # fake return until test\n",
        "  # return Ind_I,Ind_J,deltaT, Split, WhenSplit, Alpha,Tin # fake return until test\n",
        "  # return Ind_I,Ind_J,deltaT, Split, WhenSplit, Alpha,Tin, mCpin # fake return until test\n",
        "  # return Ind_I,Ind_J,deltaT, Split, WhenSplit, Alpha,Tin, mCpin, mCpout # fake return until test"
      ],
      "execution_count": 0,
      "outputs": []
    },
    {
      "cell_type": "code",
      "metadata": {
        "id": "Dt6anZvATxzg",
        "colab_type": "code",
        "colab": {}
      },
      "source": [
        "#********************PROGRAMA PRINCIPAL*************************\n",
        "\n",
        "Trocas=5\n",
        "mCp=[4,2,1.5,3] #[kW/K]\n",
        "tempInicial=[453.0,393.0,523.0,533.0] #[K]\n",
        "tempAtual=np.copy(tempInicial) \n",
        "tempAlvo=[513.0,508.0,403.0,433.0] #[K]\n",
        "U=0.2 #[kW/(m2.K)]\n",
        "coefCustoUQ=110 #[$/(kW.ano)]\n",
        "coefCustoUF=12.2 #[$/(kW.ano)]\n",
        "\n",
        "# the last position in MAX and MIN vector represent which moment the split \n",
        "#    occur not which stream (split represent which stream) \n",
        "#    for this reason it reach larger value\n",
        "#MAX=np.array([3,3,3,3,3,3,3,3,3,3,0,0,0,0,0,1,3,4]) # ,1,3,4]) Alpha,Split,WhenSplit\n",
        "#MIN=np.array([0,0,0,0,0,0,0,0,0,0,-100,-100,-100,-100,-100,0,0,0])\n",
        "\n",
        "MAX=np.array([3,3,3,3,3,1,1,1,1,1,0,0,0,0,0,1,3,4]) # ,1,3,4]) Alpha,Split,WhenSplit\n",
        "MIN=np.array([2,2,2,2,2,0,0,0,0,0,-20,-20,-20,-20,-20,0,0,0])\n",
        "NPAR=1\n",
        "cols=int(3*Trocas+3)\n",
        "x=np.zeros((NPAR,cols))\n",
        "\n",
        "for i in range(NPAR):\n",
        "  for j in range(cols):\n",
        "    r=np.random.random()\n",
        "    x[i,j]=r*(MAX[j]-MIN[j])+MIN[j]\n",
        "\n",
        "\n",
        "\n",
        "\n",
        "\n",
        "bounds=[]\n",
        "for k in range(len(MAX)):\n",
        "  bounds.append((MIN[k],MAX[k]))\n",
        "\n",
        "\n",
        "#print(bounds)\n",
        "\n"
      ],
      "execution_count": 0,
      "outputs": []
    },
    {
      "cell_type": "code",
      "metadata": {
        "id": "K4uCBdRVKAOf",
        "colab_type": "code",
        "outputId": "018e2af6-a43d-4df1-f8d8-f4f2963415d0",
        "colab": {
          "base_uri": "https://localhost:8080/",
          "height": 353
        }
      },
      "source": [
        "\n",
        "\n",
        "\n",
        "Ind_I,Ind_J,deltaT, Split, WhenSplit, Alpha=SharkBuildMatriz(x)\n",
        "print(Ind_I)\n",
        "print(Ind_J)\n",
        "print(deltaT)\n",
        "print('Split=',Split)\n",
        "print(Alpha)\n",
        "print(WhenSplit)\n",
        "\n",
        "print('=====================')\n",
        "Tout,erro,Rec_Temp =Temperatura(x)\n",
        "df=pd.DataFrame(Rec_Temp)\n",
        "print(Tout)\n",
        "print(erro)\n",
        "print(df)\n"
      ],
      "execution_count": 0,
      "outputs": [
        {
          "output_type": "stream",
          "text": [
            "[[2 2 3 3 2]]\n",
            "[[1 0 0 0 1]]\n",
            "[[-10.85043324 -10.34035135  -8.63043577  -1.50128251  -7.81603018]]\n",
            "Split= 3\n",
            "0.7734945325797213\n",
            "1\n",
            "=====================\n",
            "==== Taux= 436.7735298899542\n",
            "[[461.40658909 426.42491175 504.33353658 436.77352989 533.        ]]\n",
            "[1.]\n",
            "            0           1           2           3      4\n",
            "0  453.000000  393.000000  523.000000  533.000000  533.0\n",
            "1  453.000000  393.000000  523.000000  533.000000  533.0\n",
            "2  453.000000  414.700866  512.149567  533.000000  533.0\n",
            "3  458.170176  414.700866  512.149567  522.659649  533.0\n",
            "4  461.406589  414.700866  512.149567  436.773530  533.0\n",
            "5  461.406589  414.700866  512.149567  436.773530  533.0\n",
            "6  461.406589  426.424912  504.333537  436.773530  533.0\n",
            "7  461.406589  426.424912  504.333537  436.773530  533.0\n",
            "8  461.406589  426.424912  504.333537  436.773530  533.0\n"
          ],
          "name": "stdout"
        }
      ]
    },
    {
      "cell_type": "code",
      "metadata": {
        "id": "S80QizOyk77C",
        "colab_type": "code",
        "outputId": "fae0b2bc-54b0-4a53-eaf3-75fdff913de6",
        "colab": {
          "base_uri": "https://localhost:8080/",
          "height": 34
        }
      },
      "source": [
        "print(WhenSplit)"
      ],
      "execution_count": 0,
      "outputs": [
        {
          "output_type": "stream",
          "text": [
            "1\n"
          ],
          "name": "stdout"
        }
      ]
    },
    {
      "cell_type": "code",
      "metadata": {
        "id": "z4RyeYueqKN1",
        "colab_type": "code",
        "outputId": "b4560e6e-cae4-4b08-fdb6-ee9b6b1957fa",
        "colab": {
          "base_uri": "https://localhost:8080/",
          "height": 300
        }
      },
      "source": [
        "Imagem=Trocas+4 # Imagens+4 to get better graph postions\n",
        "Change=range(Imagem)\n",
        "for k in range(Trocas):\n",
        "  plt.plot(Change,df.iloc[:,k])\n",
        "\n",
        "plt.xlabel('Stages')\n",
        "plt.ylabel('Temperature (K)')"
      ],
      "execution_count": 0,
      "outputs": [
        {
          "output_type": "execute_result",
          "data": {
            "text/plain": [
              "Text(0, 0.5, 'Temperature (K)')"
            ]
          },
          "metadata": {
            "tags": []
          },
          "execution_count": 15
        },
        {
          "output_type": "display_data",
          "data": {
            "image/png": "[encoded data removed]",
            "text/plain": [
              "<Figure size 432x288 with 1 Axes>"
            ]
          },
          "metadata": {
            "tags": [],
            "needs_background": "light"
          }
        }
      ]
    },
    {
      "cell_type": "code",
      "metadata": {
        "id": "98ebmeBd6e5L",
        "colab_type": "code",
        "outputId": "69a2ddab-b738-4312-fe9e-51ddef4a7652",
        "colab": {
          "base_uri": "https://localhost:8080/",
          "height": 54
        }
      },
      "source": [
        "'''\n",
        "fobj=FUN\n",
        "mut=0.5\n",
        "crossp=0.5\n",
        "NPAR=100\n",
        "its=200\n",
        "cols=12\n",
        "x=np.zeros((NPAR,cols))\n",
        "for i in range(NPAR):\n",
        "  for j in range(cols):\n",
        "    r=np.random.random()\n",
        "    x[i,j]=r*(MAX[j]-MIN[j])+MIN[j]\n",
        "\n",
        "x,BEST,FOBEST,XY,BEST_XY=de_bounds_matriz.de(bounds, mut, crossp, \n",
        "                                             NPAR, its,fobj,x)\n",
        "'''"
      ],
      "execution_count": 0,
      "outputs": [
        {
          "output_type": "execute_result",
          "data": {
            "text/plain": [
              "'\\nfobj=FUN\\nmut=0.5\\ncrossp=0.5\\nNPAR=100\\nits=200\\ncols=12\\nx=np.zeros((NPAR,cols))\\nfor i in range(NPAR):\\n  for j in range(cols):\\n    r=np.random.random()\\n    x[i,j]=r*(MAX[j]-MIN[j])+MIN[j]\\n\\nx,BEST,FOBEST,XY,BEST_XY=de_bounds_matriz.de(bounds, mut, crossp, \\n                                             NPAR, its,fobj,x)\\n'"
            ]
          },
          "metadata": {
            "tags": []
          },
          "execution_count": 16
        }
      ]
    },
    {
      "cell_type": "code",
      "metadata": {
        "id": "aIEq0IrCBVPm",
        "colab_type": "code",
        "colab": {}
      },
      "source": [
        "#print('FOBEST=');print(FOBEST)"
      ],
      "execution_count": 0,
      "outputs": []
    },
    {
      "cell_type": "code",
      "metadata": {
        "id": "dKx9C1kcDLph",
        "colab_type": "code",
        "colab": {}
      },
      "source": [
        "#print(BEST)"
      ],
      "execution_count": 0,
      "outputs": []
    },
    {
      "cell_type": "code",
      "metadata": {
        "id": "h7VYqfu-Ee7-",
        "colab_type": "code",
        "outputId": "c2185f6f-3d0c-47a5-f578-016938bc0be2",
        "colab": {
          "base_uri": "https://localhost:8080/",
          "height": 34
        }
      },
      "source": [
        "'''\n",
        "Busca=Numb(BEST)\n",
        "print(pd.DataFrame(Busca))\n",
        "df=pd.DataFrame(Busca)\n",
        "'''"
      ],
      "execution_count": 0,
      "outputs": [
        {
          "output_type": "execute_result",
          "data": {
            "text/plain": [
              "'\\nBusca=Numb(BEST)\\nprint(pd.DataFrame(Busca))\\ndf=pd.DataFrame(Busca)\\n'"
            ]
          },
          "metadata": {
            "tags": []
          },
          "execution_count": 19
        }
      ]
    },
    {
      "cell_type": "code",
      "metadata": {
        "id": "ZTCkSM3Vfh5X",
        "colab_type": "code",
        "colab": {}
      },
      "source": [
        "# print(df)\n"
      ],
      "execution_count": 0,
      "outputs": []
    },
    {
      "cell_type": "code",
      "metadata": {
        "id": "cw8YfB07MsGe",
        "colab_type": "code",
        "outputId": "f7a5c970-f230-44bf-b6b1-ec03b521d6e3",
        "colab": {
          "base_uri": "https://localhost:8080/",
          "height": 54
        }
      },
      "source": [
        "'''\n",
        "Streams=4\n",
        "Change=range(Streams+4) # Streams+4 so para ficar com um visual melhor\n",
        "for k in range(Streams):\n",
        "  plt.plot(Change,df.iloc[:,k])\n",
        "plt.xlabel('Stages')\n",
        "plt.ylabel('Temperature (K)')\n",
        "'''"
      ],
      "execution_count": 0,
      "outputs": [
        {
          "output_type": "execute_result",
          "data": {
            "text/plain": [
              "\"\\nStreams=4\\nChange=range(Streams+4) # Streams+4 so para ficar com um visual melhor\\nfor k in range(Streams):\\n  plt.plot(Change,df.iloc[:,k])\\nplt.xlabel('Stages')\\nplt.ylabel('Temperature (K)')\\n\""
            ]
          },
          "metadata": {
            "tags": []
          },
          "execution_count": 20
        }
      ]
    },
    {
      "cell_type": "code",
      "metadata": {
        "id": "zvWG_MEUavUO",
        "colab_type": "code",
        "outputId": "4569923d-a84b-4e82-b2cd-3fb5ca7318e7",
        "colab": {
          "base_uri": "https://localhost:8080/",
          "height": 34
        }
      },
      "source": [
        "'''\n",
        "print(tempInicial)\n",
        "print(tempAlvo)\n",
        "print(df)\n",
        "'''"
      ],
      "execution_count": 0,
      "outputs": [
        {
          "output_type": "execute_result",
          "data": {
            "text/plain": [
              "'\\nprint(tempInicial)\\nprint(tempAlvo)\\nprint(df)\\n'"
            ]
          },
          "metadata": {
            "tags": []
          },
          "execution_count": 21
        }
      ]
    },
    {
      "cell_type": "code",
      "metadata": {
        "id": "xxa8TGpdNB23",
        "colab_type": "code",
        "outputId": "935893e3-c4f4-4c9a-abe2-3a269a4564c9",
        "colab": {
          "base_uri": "https://localhost:8080/",
          "height": 70
        }
      },
      "source": [
        "Corrente=[]\n",
        "When=[]\n",
        "for i in range(100):\n",
        "  x=np.zeros((NPAR,cols))\n",
        "  for i in range(NPAR):\n",
        "    for j in range(cols):\n",
        "      r=np.random.random()\n",
        "      x[i,j]=r*(MAX[j]-MIN[j])+MIN[j]\n",
        "  Ind_I,Ind_J,deltaT, Split, WhenSplit, Alpha=SharkBuildMatriz(x)\n",
        "  Corrente.append(Split)\n",
        "  When.append(WhenSplit)\n",
        "print(Corrente)\n",
        "print(When)"
      ],
      "execution_count": 0,
      "outputs": [
        {
          "output_type": "stream",
          "text": [
            "[1, 2, 2, 1, 0, 2, 1, 1, 1, 1, 2, 1, 1, 1, 1, 1, 0, 2, 3, 2, 3, 3, 2, 2, 1, 2, 3, 2, 2, 1, 2, 1, 3, 3, 0, 0, 1, 2, 2, 1, 1, 2, 3, 3, 3, 1, 1, 1, 1, 0, 1, 1, 2, 2, 1, 1, 3, 3, 3, 3, 2, 1, 2, 0, 3, 1, 1, 1, 0, 3, 3, 0, 3, 2, 1, 3, 2, 1, 1, 1, 3, 2, 2, 1, 0, 3, 1, 1, 2, 1, 0, 1, 1, 3, 3, 0, 1, 1, 2, 0]\n",
            "[4, 3, 1, 2, 4, 1, 1, 0, 2, 1, 3, 0, 1, 4, 0, 1, 1, 1, 3, 1, 2, 3, 3, 0, 4, 3, 1, 4, 2, 3, 2, 3, 1, 3, 3, 2, 2, 1, 3, 2, 0, 4, 1, 4, 1, 0, 2, 1, 1, 4, 1, 2, 1, 0, 1, 1, 2, 2, 0, 2, 3, 0, 0, 0, 1, 1, 0, 3, 0, 2, 2, 3, 1, 1, 3, 4, 1, 4, 2, 3, 1, 2, 1, 1, 3, 4, 3, 4, 3, 1, 2, 3, 1, 2, 1, 2, 3, 1, 3, 1]\n"
          ],
          "name": "stdout"
        }
      ]
    },
    {
      "cell_type": "code",
      "metadata": {
        "id": "AuAvTiG5Ma0o",
        "colab_type": "code",
        "outputId": "c73ca4a7-0985-4ff0-d6a0-ee05012ece1c",
        "colab": {
          "base_uri": "https://localhost:8080/",
          "height": 34
        }
      },
      "source": [
        "print(Alpha)"
      ],
      "execution_count": 0,
      "outputs": [
        {
          "output_type": "stream",
          "text": [
            "0.158530220215091\n"
          ],
          "name": "stdout"
        }
      ]
    }
  ]
}