{
  "nbformat": 4,
  "nbformat_minor": 0,
  "metadata": {
    "colab": {
      "name": "RTC_DE_case_02_aproach_FuFu_May_16_2020.ipynb",
      "provenance": [],
      "collapsed_sections": [],
      "include_colab_link": true
    },
    "kernelspec": {
      "name": "python3",
      "display_name": "Python 3"
    }
  },
  "cells": [
    {
      "cell_type": "markdown",
      "metadata": {
        "id": "view-in-github",
        "colab_type": "text"
      },
      "source": [
        "<a href=\"https://colab.research.google.com/github/ucfilho/RTC_case_02_optimization_rest/blob/master/RTC_DE_case_02_aproach_FuFu_May_16_2020.ipynb\" target=\"_parent\"><img src=\"https://colab.research.google.com/assets/colab-badge.svg\" alt=\"Open In Colab\"/></a>"
      ]
    },
    {
      "cell_type": "code",
      "metadata": {
        "id": "wGzR2VpcZHYA",
        "colab_type": "code",
        "colab": {}
      },
      "source": [
        "import pandas as pd\n",
        "from scipy.optimize import differential_evolution\n",
        "import numpy as np\n",
        "import matplotlib.pyplot as plt"
      ],
      "execution_count": 0,
      "outputs": []
    },
    {
      "cell_type": "code",
      "metadata": {
        "id": "Dt6anZvATxzg",
        "colab_type": "code",
        "colab": {}
      },
      "source": [
        "#********************PROGRAMA PRINCIPAL*************************\n",
        "\n",
        "Trocas=5\n",
        "mCp=[200,100,300,500] #[kW/K]\n",
        "tempInicial=[423.0,443.0,323.0,353.0] #[K]\n",
        "tempAtual=np.copy(tempInicial) \n",
        "tempAlvo=[323.0,313.0,393.0,383.0] #[K]\n",
        "U=0.1 #[kW/(m2.K)]\n",
        "coefCustoUQ=110.0 #[$/(kW.ano)]\n",
        "coefCustoUF=10.0 #[$/(kW.ano)]\n",
        "\n",
        "# the last position in MAX and MIN vector represent which moment the split \n",
        "#    occur not which stream (split represent which stream) \n",
        "#    for this reason it reach larger value\n",
        "#MAX=np.array([3,3,3,3,3,3,3,3,3,3,0,0,0,0,0,1,3,4]) # ,1,3,4]) Alpha,Split,WhenSplit\n",
        "#MIN=np.array([0,0,0,0,0,0,0,0,0,0,-100,-100,-100,-100,-100,0,0,0])\n",
        "\n",
        "MAX=np.array([3,3,3,3,3,3,3,3,3,3,0,0,0,0,0,1,3,4]) # ,1,3,4]) Alpha,Split,WhenSplit\n",
        "MIN=np.array([0,0,0,0,0,0,0,0,0,0,-100,-100,-100,-100,-100,0,0,0])\n",
        "NPAR=1\n",
        "\n",
        "\n",
        "\n",
        "cols=int(3*Trocas+3)\n",
        "x=np.zeros((NPAR,cols))\n",
        "\n",
        "for i in range(NPAR):\n",
        "  for j in range(cols):\n",
        "    r=np.random.random()\n",
        "    x[i,j]=r*(MAX[j]-MIN[j])+MIN[j]\n",
        "\n",
        "bounds=[]\n",
        "for k in range(len(MAX)):\n",
        "  bounds.append((MIN[k],MAX[k]))\n",
        "\n",
        "\n",
        "#print(bounds)\n",
        "\n",
        "mut=0.5\n",
        "crossp=0.5\n",
        "NPAR=5\n",
        "its=10\n",
        "cols=18"
      ],
      "execution_count": 0,
      "outputs": []
    },
    {
      "cell_type": "code",
      "metadata": {
        "id": "wkePQEVg8bbY",
        "colab_type": "code",
        "colab": {}
      },
      "source": [
        "# Enthalpy =  2014 (kJ/kg )\n",
        "# https://www.engineeringtoolbox.com/saturated-steam-properties-d_101.html"
      ],
      "execution_count": 0,
      "outputs": []
    },
    {
      "cell_type": "code",
      "metadata": {
        "id": "MjqwkVE67u2g",
        "colab_type": "code",
        "outputId": "dddff42d-7a3d-4537-f064-ee68b63111dc",
        "colab": {
          "base_uri": "https://localhost:8080/",
          "height": 51
        }
      },
      "source": [
        "!git clone https://github.com/ucfilho/raianars_RTC_optimization #clonar do Github\n",
        "%cd raianars_RTC_optimization\n",
        "import de_bounds_matriz"
      ],
      "execution_count": 0,
      "outputs": [
        {
          "output_type": "stream",
          "text": [
            "fatal: destination path 'raianars_RTC_optimization' already exists and is not an empty directory.\n",
            "/content/raianars_RTC_optimization\n"
          ],
          "name": "stdout"
        }
      ]
    },
    {
      "cell_type": "code",
      "metadata": {
        "id": "AJAKALcG-KF6",
        "colab_type": "code",
        "colab": {}
      },
      "source": [
        "def ChangeTemp(ki,kj,i,j,Tout,Cp,deltaT):\n",
        "  global NPAR\n",
        "  erro=np.zeros((NPAR)) # erro=1 if there  is an error : penalties\n",
        "  tempSaidaQ=Tout[ki,i]+deltaT[ki,kj]\n",
        "  tempSaidaF=-Cp[kj]*deltaT[ki,kj]/(Cp[j])+Tout[ki,j]\n",
        "  flag=0 # flag : logical test\n",
        "  Thot=np.copy(Tout[ki,i]) # value used to return original value (if request)\n",
        "  Tcold=np.copy(Tout[ki,j]) # value used to return original value (if request)\n",
        "  if(Tout[ki,i] > Tout[ki,j]): #Tquente maior Tfria: vaores atuais\n",
        "    if(tempSaidaQ > tempSaidaF):#Tquente maior Tfria: saidas\n",
        "      flag=1\n",
        "  if(flag>0):\n",
        "    Tout[ki,i]=tempSaidaQ\n",
        "    Tout[ki,j]=tempSaidaF\n",
        "  else:\n",
        "    erro[ki]=1\n",
        "\n",
        "\n",
        "  \n",
        "  return Tout,erro,Thot,Tcold\n",
        "  # Tout,erro,Thot,Tcold=ChangeTemp(ki,kj,i,j,Tout,Cp,deltaT)       \n",
        " "
      ],
      "execution_count": 0,
      "outputs": []
    },
    {
      "cell_type": "code",
      "metadata": {
        "colab_type": "code",
        "id": "M3ougpFws_w9",
        "colab": {}
      },
      "source": [
        "def SharkBuildMatriz(x):\n",
        "  # Ind_I,Ind_J,deltaT, Split, WhenSplit, Alpha=SharkBuildMatriz(x)\n",
        "  # add one position in three variables (Ind_J,Ind_I,deltaT)\n",
        "  # Alfa and Split (split choose the moment and alpha the fraction)\n",
        "  # Split=which stream\n",
        "  # Alfa=fraction \n",
        "  \n",
        "  global Trocas\n",
        "  NPAR=1\n",
        "  #cols=len(tempInicial)\n",
        "  size=int(3*Trocas+3) # number 3 represent split, alfa and WhenSplit\n",
        "  # add one exchange\n",
        "  x=np.array(x).reshape(1,size)\n",
        "  # print('x=');print(x)\n",
        "  Ind_I=np.zeros((NPAR,Trocas)).astype(np.int64)\n",
        "  Ind_J=np.zeros((NPAR,Trocas)).astype(np.int64)\n",
        "  \n",
        "  Tout=np.zeros((NPAR,Trocas))\n",
        "  deltaT=np.zeros((NPAR,Trocas))\n",
        "  for i in range(NPAR):\n",
        "    Alpha=x[i,size-3]\n",
        "    Split=round(x[i,size-2]).astype(np.int64)\n",
        "    WhenSplit=round(x[i,size-1]).astype(np.int64)\n",
        "    for j in range(Trocas):\n",
        "      Ind_I[i,j]=round(x[i,j])\n",
        "      Ind_J[i,j]=round(x[i,j+Trocas])\n",
        "      deltaT[i,j]=x[i,j+2*Trocas] \n",
        "\n",
        "  return Ind_I,Ind_J,deltaT, Split, WhenSplit, Alpha\n",
        "  #Ind_I,Ind_J,deltaT, Split, WhenSplit, Alpha=SharkBuildMatriz(x)"
      ],
      "execution_count": 0,
      "outputs": []
    },
    {
      "cell_type": "code",
      "metadata": {
        "id": "Ha_XxG-tT7yB",
        "colab_type": "code",
        "colab": {}
      },
      "source": [
        "def Temperatura(x):\n",
        "  global Trocas, mCp,tempInicial,tempAlvo,Ttest\n",
        "  \n",
        "  AreasTroca=[]\n",
        "  NPAR=1\n",
        "  #print(x)\n",
        "  #print('inside temperatura function')\n",
        "  Tin=np.zeros(Trocas)\n",
        "  Tout=np.zeros((NPAR,Trocas))\n",
        "  mCpin=np.zeros(Trocas)\n",
        "  \n",
        "  rows=Trocas \n",
        "  cols=Trocas\n",
        "  Rec_Temp=np.zeros((rows+4,cols))# four extra positions to better view and one to split\n",
        "\n",
        "  Ind_I,Ind_J,deltaT, Split, WhenSplit, Alpha=SharkBuildMatriz(x)\n",
        "\n",
        "\n",
        "  if(WhenSplit==Trocas-1):\n",
        "    Ind_1st=WhenSplit-2\n",
        "    Ind_2nd=Trocas-1\n",
        "  else:\n",
        "    Ind_1st=WhenSplit\n",
        "    Ind_2nd=Trocas-1\n",
        "  \n",
        "  #=====================\n",
        "  # part B: allocating split in cold or hot stream\n",
        "  # Hot=1 means hot stream is split\n",
        "  # Hot=0 means hot stream is not split (so cold stream is split)\n",
        "  if(tempInicial[Split]>tempAlvo[Split]): # hot stream is spliting\n",
        "    Hot=1 \n",
        "    Ind_I[0,Ind_1st]=Split # two streams are correct by split information\n",
        "    Ind_I[0,Ind_2nd]=Trocas-1 # two streams are correct by split information\n",
        "  else: # cold stream is spliting\n",
        "    Hot=0 \n",
        "    Ind_J[0,Ind_1st]=Split # two streams are correct by split information\n",
        "    Ind_J[0,Ind_2nd]=Trocas-1 # two streams are correct by split information\n",
        "\n",
        "  #=====================\n",
        "  # part C: bulding mCp with split values and temperatures with split values\n",
        "  for kk in range(Trocas-1):  # ???(Trocas-1) should be replaced by (Trocas-2)?\n",
        "    Tin[kk]=np.copy(tempInicial[kk])\n",
        "    mCpin[kk]=mCp[kk]\n",
        "\n",
        "  Tin[Trocas-1]=tempInicial[Split]\n",
        "  mCpin[Trocas-1]=mCpin[Split]    \n",
        "\n",
        "\n",
        "  mCpout=np.copy(mCpin)\n",
        "  if(Split==Trocas-1):\n",
        "    mCpout[Split-1]= Alpha*mCpin[Split]\n",
        "    mCpout[Split]= (1-Alpha)*mCpin[Split]\n",
        "  else:\n",
        "    mCpout[Split]=Alpha*mCpin[Split]\n",
        "    mCpout[Trocas-1]= (1-Alpha)*mCpin[Split]\n",
        "  \n",
        "\n",
        "  for ki in range(NPAR):\n",
        "    for kj in range(Trocas): \n",
        "      Tout[ki,kj]=np.copy(Tin[kj])\n",
        "\n",
        "  # Lists Rec_Temp is used to build graph \n",
        "  for i in range(2):\n",
        "    for j in range(cols):\n",
        "      Rec_Temp[i,j]=np.copy(Tout[0,j])\n",
        "\n",
        "  Ttest=np.copy(Tout)\n",
        "  Grab=0 #grab is evaluation: 0: no split, 1:start slit, 2:conclude split \n",
        "  #=====================\n",
        "  # part D: start get temperatures using informations build (A,B,C)\n",
        "  Cont=1\n",
        "  for ki in range(NPAR):\n",
        "    for kj in range(Trocas):\n",
        "      Cont=Cont+1\n",
        "      k=kj\n",
        "      if(kj==WhenSplit):\n",
        "        Cp=np.copy(mCpout)\n",
        "        grab=1\n",
        "      elif(kj==WhenSplit+1):\n",
        "        Cp=np.copy(mCpout)\n",
        "        grab=2\n",
        "      else:\n",
        "        Cp=np.copy(mCpin)\n",
        "        grab=0\n",
        "      \n",
        "      if(grab==2):\n",
        "        if(Hot==1):\n",
        "          i=Trocas-1\n",
        "          j=Ind_J[ki,kj]\n",
        "        else:\n",
        "          i=Ind_I[ki,kj]\n",
        "          j=Trocas-1\n",
        "      else:\n",
        "        i=Ind_I[ki,kj]\n",
        "        j=Ind_J[ki,kj]\n",
        "\n",
        "      \n",
        "      Tout,erro,Thot,Tcold=ChangeTemp(ki,kj,i,j,Tout,Cp,deltaT)\n",
        "\n",
        "      DifHot=Tout[ki,i]-Thot\n",
        "      DifCold=Tout[ki,j]-Tcold\n",
        "\n",
        "\n",
        "\n",
        "      if((DifHot==0) or (DifCold==0)):\n",
        "        Area=0\n",
        "      else:\n",
        "        deltaT1=Thot-Tout[ki,j]\n",
        "        deltaT2=Tout[ki,i]-Tcold\n",
        "        try:\n",
        "          A=(deltaT1-deltaT2)\n",
        "          if(A==0):\n",
        "            deltaTMediaLog=deltaT1\n",
        "          else:\n",
        "            B=np.log((deltaT1/deltaT2))\n",
        "            deltaTMediaLog=A/B\n",
        "        except:\n",
        "          deltaTMediaLog=1e99\n",
        "        \n",
        "        Area=abs(Cp[j]*(DifCold)/(U*deltaTMediaLog)) # inside else condition\n",
        "\n",
        "      for j in range(Trocas):\n",
        "        Rec_Temp[Cont,j]=np.copy(Tout[0,j])\n",
        "\n",
        "      AreasTroca.append(Area)\n",
        "\n",
        "      if(grab==2):\n",
        "        Taux=Alpha*Tout[ki,Split]+(1-Alpha)*Tout[ki,Trocas-1]\n",
        "        Tout[ki,Trocas-1]=np.copy(Taux)\n",
        "        Tout[ki,Split]=np.copy(Taux)\n",
        "        Cont=Cont+1\n",
        "        for j in range(Trocas):\n",
        "          Rec_Temp[Cont,j]=np.copy(Tout[0,j])\n",
        "        Cont=Cont+1\n",
        "\n",
        "      if(grab == 0):\n",
        "        if(Hot==1):\n",
        "          Tout[ki,Trocas-1]=np.copy(Tout[ki,Split])\n",
        "        else:\n",
        "          #Tout[ki,Trocas-1]=np.copy(Tout[ki,Split])\n",
        "          Tout[ki,Trocas-1]=np.copy(Tout[ki,Split])\n",
        "\n",
        "      for j in range(cols):\n",
        "        Rec_Temp[Cont,j]=np.copy(Tout[0,j])\n",
        "\n",
        "\n",
        "    \n",
        "  return Tout,erro,Rec_Temp,AreasTroca\n",
        "\n",
        "  # return Ind_I,Ind_J,deltaT, Split, WhenSplit, Alpha # fake return until test\n",
        "  # return Ind_I,Ind_J,deltaT, Split, WhenSplit, Alpha,Tin # fake return until test\n",
        "  # return Ind_I,Ind_J,deltaT, Split, WhenSplit, Alpha,Tin, mCpin # fake return until test\n",
        "  # return Ind_I,Ind_J,deltaT, Split, WhenSplit, Alpha,Tin, mCpin, mCpout # fake return until test"
      ],
      "execution_count": 0,
      "outputs": []
    },
    {
      "cell_type": "code",
      "metadata": {
        "id": "GQ5b6YgWLNqr",
        "colab_type": "code",
        "colab": {}
      },
      "source": [
        "def Utility(mCp,Rec_Temp,tempAlvo):\n",
        "\n",
        "  global tempFinal\n",
        "  df=pd.DataFrame(Rec_Temp)\n",
        "  num=len(mCp)\n",
        "  tempFinal=np.zeros((num))\n",
        "  row=len(df.iloc[:,0])\n",
        "  col=len(df.iloc[0,:])-1\n",
        "  for i in range(row):\n",
        "    for j in range(col):\n",
        "      tempFinal[j]=np.copy(df.iloc[i,j]) \n",
        "\n",
        "  cols=len(mCp)\n",
        "  NPAR=1\n",
        "  '''\n",
        "  case II  TUQin=453 e TQout=453, TUFin=293 TUFout=313\n",
        "  '''\n",
        "  TUQin=453 # steam saturated 180 celsius\n",
        "  TUQout=453\n",
        "  TUFin=293 \n",
        "  TUFout=313\n",
        "  \n",
        "  Areas=[]\n",
        "  cargaUQtodas=[]\n",
        "  cargaUFtodas=[]\n",
        "\n",
        "  for ki in range(NPAR):\n",
        "    areaTrocador=[]\n",
        "    cargaUQ=0\n",
        "    cargaUF=0\n",
        "    for j in range(cols):\n",
        "      delta=tempAlvo[j]-tempFinal[j]\n",
        "      if(delta>0):#usa UQ\n",
        "        cargaUQ=cargaUQ+mCp[j]*delta\n",
        "        deltaT1=(TUQin-tempAlvo[j])\n",
        "        deltaT2=(TUQout-tempFinal[j])\n",
        "\n",
        "        try:\n",
        "          A=deltaT1-deltaT2\n",
        "          B=np.log(deltaT1/deltaT2)\n",
        "          deltaTMediaLog=A/B\n",
        "        except:\n",
        "          if(A==B):\n",
        "            deltaTMediaLog=A\n",
        "          else:\n",
        "            deltaTMediaLog=1e99\n",
        "\n",
        "        if(deltaTMediaLog==1e99):\n",
        "          areaTrocador.append(1e99)\n",
        "        else:\n",
        "          areaTrocador.append((abs(mCp[j]*(delta)/(U*deltaTMediaLog))))\n",
        "\n",
        "      elif(delta==0):#nao usa UF e UQ\n",
        "        deltaTMediaLog=0\n",
        "        areaTrocador.append(0) \n",
        "\n",
        "      else:#usa UF\n",
        "        deltaT1=(Tout[ki,j]-TUFout)\n",
        "        deltaT2=(tempAlvo[j]-TUFin)     \n",
        "        cargaUF=cargaUF+mCp[j]*(-delta)\n",
        "\n",
        "        #UF -> água resfriada -> entra a 303K e sai a 353K\n",
        "        try:\n",
        "          A=deltaT1-deltaT2\n",
        "          B=np.log(deltaT1/deltaT2)\n",
        "          deltaTMediaLog=A/B\n",
        "        except:\n",
        "          # deltaTMediaLog=1e99\n",
        "          if(A==B):\n",
        "            deltaTMediaLog=A\n",
        "          else:\n",
        "            deltaTMediaLog=1e99\n",
        "        \n",
        "        if(deltaTMediaLog==1e99):\n",
        "          areaTrocador.append(1e99)\n",
        "        else:\n",
        "          areaTrocador.append((abs(mCp[j]*(-delta)/(U*deltaTMediaLog))))\n",
        "\n",
        "    cargaUQtodas.append(cargaUQ)\n",
        "    cargaUFtodas.append(cargaUF)\n",
        "\n",
        "    Areas.append(areaTrocador)\n",
        "\n",
        "  return Areas, cargaUQtodas,cargaUFtodas\n",
        "\n",
        "  # Areas, cargaUQtodas,cargaUFtodas=Utility(mCp,Rec_Temp,tempAlvo)"
      ],
      "execution_count": 0,
      "outputs": []
    },
    {
      "cell_type": "code",
      "metadata": {
        "colab_type": "code",
        "id": "LXHFFtlr7A0t",
        "colab": {}
      },
      "source": [
        "def SharkArea(x):\n",
        "  #global Trocas, mCp,tempInicial,tempAlvo,Ttest\n",
        "  global mCp,tempAlvo,tempInicial,Trocas,U,Trocas\n",
        "  global Rec_Cold,Rec_Hot,Rec_Tcold,Rec_Thot\n",
        "\n",
        "  global areaTrocadores # temporary (just for test)\n",
        "\n",
        "  \n",
        "  NPAR=1\n",
        "  \n",
        "  #Area=[]\n",
        "  Area_Particula=[]\n",
        "  Rec_Cold=[]\n",
        "  Rec_Hot=[]\n",
        "  Rec_Tcold=[]\n",
        "  Rec_Thot=[]\n",
        "\n",
        "  NPAR=1\n",
        "  Tin=np.zeros(Trocas)\n",
        "  Tout=np.zeros((NPAR,Trocas))\n",
        "  mCpin=np.zeros(Trocas)\n",
        "  \n",
        "  rows=Trocas \n",
        "  cols=Trocas\n",
        "  Rec_Temp=np.zeros((rows+4,cols))# four extra positions to better view and one to split\n",
        "\n",
        "  Ind_I,Ind_J,deltaT, Split, WhenSplit, Alpha=SharkBuildMatriz(x)\n",
        "\n",
        "\n",
        "  if(WhenSplit==Trocas-1):\n",
        "    Ind_1st=WhenSplit-2\n",
        "    Ind_2nd=Trocas-1\n",
        "  else:\n",
        "    Ind_1st=WhenSplit\n",
        "    Ind_2nd=Trocas-1\n",
        "  \n",
        "  #=====================\n",
        "  # part B: allocating split in cold or hot stream\n",
        "  # Hot=1 means hot stream is split\n",
        "  # Hot=0 means hot stream is not split (so cold stream is split)\n",
        "  if(tempInicial[Split]>tempAlvo[Split]): # hot stream is spliting\n",
        "    Hot=1 \n",
        "    Ind_I[0,Ind_1st]=Split # two streams are correct by split information\n",
        "    Ind_I[0,Ind_2nd]=Trocas-1 # two streams are correct by split information\n",
        "  else: # cold stream is spliting\n",
        "    Hot=0 \n",
        "    Ind_J[0,Ind_1st]=Split # two streams are correct by split information\n",
        "    Ind_J[0,Ind_2nd]=Trocas-1 # two streams are correct by split information\n",
        "\n",
        "  #=====================\n",
        "  # part C: bulding mCp with split values and temperatures with split values\n",
        "  for kk in range(Trocas-1):  # ???(Trocas-1) should be replaced by (Trocas-2)?\n",
        "    Tin[kk]=np.copy(tempInicial[kk])\n",
        "    mCpin[kk]=mCp[kk]\n",
        "\n",
        "  Tin[Trocas-1]=tempInicial[Split]\n",
        "  mCpin[Trocas-1]=mCpin[Split]    \n",
        "\n",
        "\n",
        "  mCpout=np.copy(mCpin)\n",
        "  if(Split==Trocas-1):\n",
        "    mCpout[Split-1]= Alpha*mCpin[Split]\n",
        "    mCpout[Split]= (1-Alpha)*mCpin[Split]\n",
        "  else:\n",
        "    mCpout[Split]=Alpha*mCpin[Split]\n",
        "    mCpout[Trocas-1]= (1-Alpha)*mCpin[Split]\n",
        "  \n",
        "\n",
        "  for ki in range(NPAR):\n",
        "    for kj in range(Trocas): \n",
        "      Tout[ki,kj]=np.copy(Tin[kj])\n",
        "\n",
        "  # Lists Rec_Temp is used to build graph \n",
        "  for i in range(2):\n",
        "    for j in range(cols):\n",
        "      Rec_Temp[i,j]=np.copy(Tout[0,j])\n",
        "\n",
        "  Ttest=np.copy(Tout)\n",
        "  Grab=0 #grab is evaluation: 0: no split, 1:start slit, 2:conclude split \n",
        "  #=====================\n",
        "  # part D: start get temperatures using informations build (A,B,C)\n",
        "  Cont=1\n",
        "  for ki in range(NPAR):\n",
        "    for kj in range(Trocas):\n",
        "      Cont=Cont+1\n",
        "      k=kj\n",
        "      if(kj==WhenSplit):\n",
        "        Cp=np.copy(mCpout)\n",
        "        grab=1\n",
        "      elif(kj==WhenSplit+1):\n",
        "        Cp=np.copy(mCpout)\n",
        "        grab=2\n",
        "      else:\n",
        "        Cp=np.copy(mCpin)\n",
        "        grab=0\n",
        "      \n",
        "      if(grab==2):\n",
        "        if(Hot==1):\n",
        "          i=Trocas-1\n",
        "          j=Ind_J[ki,kj]\n",
        "        else:\n",
        "          i=Ind_I[ki,kj]\n",
        "          j=Trocas-1\n",
        "      else:\n",
        "        i=Ind_I[ki,kj]\n",
        "        j=Ind_J[ki,kj]\n",
        "\n",
        "      \n",
        "      Tout,erro,Thot,Tcold=ChangeTemp(ki,kj,i,j,Tout,Cp,deltaT) \n",
        "\n",
        "      Told_i=Thot\n",
        "      Told_j=Tcold\n",
        "      tempSaidaQ=Tout[ki,i]\n",
        "      tempSaidaF=Tout[ki,j]\n",
        "      deltaT1=Told_i-tempSaidaF\n",
        "      deltaT2=tempSaidaQ-Told_j\n",
        "      Rec_Cold.append(deltaT2)\n",
        "      Rec_Tcold.append(tempSaidaF)\n",
        "      Rec_Hot.append(deltaT1)\n",
        "      Rec_Thot.append(tempSaidaQ)\n",
        "\n",
        "      try:\n",
        "        A=(deltaT1-deltaT2)\n",
        "        B=np.log((deltaT1/deltaT2))\n",
        "        deltaTMediaLog=A/B\n",
        "      except:\n",
        "        #deltaTMediaLog=1e99\n",
        "        if(deltaT1==deltaT2):\n",
        "          deltaTMediaLog=A\n",
        "        else:\n",
        "          deltaTMediaLog=1e99\n",
        "    \n",
        "      if(deltaTMediaLog==1e99):\n",
        "        AreaCalc=1e99\n",
        "      else:\n",
        "        AreaCalc=abs(deltaT[0,i]*Cp[i]/(U*deltaTMediaLog))\n",
        "\n",
        "      if(Told_i==tempSaidaQ):\n",
        "        AreaCalc=0\n",
        "\n",
        "      if(Told_j==tempSaidaF):\n",
        "        AreaCalc=0\n",
        "      \n",
        "      AreaCalc=np.where(np.isnan(AreaCalc), 1e99, AreaCalc).ravel()\n",
        "\n",
        "      Area_Particula.append(AreaCalc[0]) \n",
        "      # just changing AreaCalc by AreaCalc[0]  you fix the code\n",
        "      # it is insane....\n",
        "\n",
        "      for j in range(Trocas):\n",
        "        Rec_Temp[Cont,j]=np.copy(Tout[0,j])\n",
        "\n",
        "      \n",
        "      if(grab==2):\n",
        "        Taux=Alpha*Tout[ki,Split]+(1-Alpha)*Tout[ki,Trocas-1]\n",
        "        Tout[ki,Trocas-1]=np.copy(Taux)\n",
        "        Tout[ki,Split]=np.copy(Taux)\n",
        "        Cont=Cont+1\n",
        "        for j in range(Trocas):\n",
        "          Rec_Temp[Cont,j]=np.copy(Tout[0,j])\n",
        "        Cont=Cont+1\n",
        "\n",
        "      if(grab == 0):\n",
        "        if(Hot==1):\n",
        "          Tout[ki,Trocas-1]=Tout[ki,Split]\n",
        "        else:\n",
        "          Tout[ki,Trocas-1]=Tout[ki,Split]\n",
        "\n",
        "      for j in range(cols):\n",
        "        Rec_Temp[Cont,j]=np.copy(Tout[0,j])\n",
        "\n",
        "  #print('==================')\n",
        "  #print(Area_Particula)\n",
        "    \n",
        "  return Area_Particula\n",
        "\n",
        "  # AreaCada=SharkArea(x)\n",
        "\n",
        "  # return Ind_I,Ind_J,deltaT, Split, WhenSplit, Alpha # fake return until test\n",
        "  # return Ind_I,Ind_J,deltaT, Split, WhenSplit, Alpha,Tin # fake return until test\n",
        "  # return Ind_I,Ind_J,deltaT, Split, WhenSplit, Alpha,Tin, mCpin # fake return until test\n",
        "  # return Ind_I,Ind_J,deltaT, Split, WhenSplit, Alpha,Tin, mCpin, mCpout # fake return until test"
      ],
      "execution_count": 0,
      "outputs": []
    },
    {
      "cell_type": "code",
      "metadata": {
        "id": "gv1ZudaGvEYt",
        "colab_type": "code",
        "colab": {}
      },
      "source": [
        "\n",
        "def CustoProcesso(Areas,Utilidades,cargaUFtodas,cargaUQtodas):\n",
        "  global coefCustoUQ,coefCustoUF\n",
        "  \n",
        "  NPAR=1\n",
        "  costTrocadores=0\n",
        "  Soma=0\n",
        "  cost=np.zeros((NPAR))\n",
        "  for i in range(NPAR):\n",
        "    cargaUQ=cargaUQtodas[i]\n",
        "    cargaUF=cargaUFtodas[i]\n",
        "    areaUtilidades=np.array(Utilidades).ravel()\n",
        "    Areas=np.array(Areas)\n",
        "    #print(Areas)\n",
        "    #print(areaUtilidades)\n",
        "    #row, col=Areas.shape\n",
        "    col=len(Areas)\n",
        "    #print(col)\n",
        "    for j in range(col):\n",
        "      #Soma=Soma+9094*Areas[0,j]**0.81\n",
        "      Soma=Soma+9094+221*Areas[j]**0.81\n",
        "    #row, col=areaUtilidades.shape]\n",
        "\n",
        "    # print('========================')\n",
        "    # print('Soma trocadores=',Soma)\n",
        "\n",
        "    cols=len(areaUtilidades)\n",
        "    for j in range(cols):\n",
        "      #Soma=Soma+9094*areaUtilidades[0,j]**0.81\n",
        "      Soma=Soma+9094+221*areaUtilidades[j]**0.81\n",
        "\n",
        "    #print('Soma trocadores+ utilidades=',Soma)\n",
        "\n",
        "    costTrocadores=Soma  \n",
        "    costUQ=coefCustoUQ*cargaUQ\n",
        "    costUF=coefCustoUF*cargaUF\n",
        "\n",
        "    #print('Areas=',Areas)\n",
        "    #print('areaUtilidades=',areaUtilidades)\n",
        "    \n",
        "    if(costTrocadores>=1e99):\n",
        "      cost[i]=1e99\n",
        "    else:\n",
        "      #cost[i]=costUQ+costUF+costTrocadores\n",
        "      cost[i]=abs(costUQ)+abs(costUF)+costTrocadores\n",
        "     \n",
        "    #print('costUQ=',costUQ)\n",
        "    #print('costUF=',costUF)\n",
        "    #print('Custo=',cost) \n",
        "\n",
        "  return cost"
      ],
      "execution_count": 0,
      "outputs": []
    },
    {
      "cell_type": "code",
      "metadata": {
        "id": "lmPfZ7arakM1",
        "colab_type": "code",
        "colab": {}
      },
      "source": [
        "#FUN calcula o TAC para um determinado arranjo\n",
        "#  cada calculo é feito em uma funcao a parte Fun usa todas funcoes \n",
        "\n",
        "def FUN(x):\n",
        "\n",
        "  global mCp,tempAtual,tempAlvo,tempInicial,U,coefCustoUQ,coefCustoUF\n",
        "  \n",
        "  NPAR=1\n",
        "  \n",
        "  funr=np.zeros((NPAR))\n",
        "  cols=len(mCp)\n",
        "  Ind_I,Ind_J,deltaT, Split, WhenSplit, Alpha=SharkBuildMatriz(x)\n",
        "  #print('++++++++++++')\n",
        "  #print(x)\n",
        "  #x=np.array(x)\n",
        "  x = x.reshape(-1, 18)\n",
        "  #print('+++ after modification +++')\n",
        "  #print(x)\n",
        "  Tout,Erro,Rec_Temp,AreasTroca= Temperatura(x)\n",
        "  #areaTrocadores=SharkArea(x)\n",
        "  AreaCada=SharkArea(x)\n",
        "  areaTrocadores=np.array(AreaCada).ravel()\n",
        "  #print(areaTrocadores)\n",
        "  #print('areaTrocadores=',areaTrocadores)\n",
        "  #print('inside FUN')\n",
        "  #print('AreaCada=',np.array(AreaCada).ravel())\n",
        "  #areaTrocadores=np.array(pd.DataFrame(AreaCada)).ravel()\n",
        "  \n",
        "  areaUtilidade, cargaUQ,cargaUF=Utility(mCp,Rec_Temp,tempAlvo)\n",
        "  cost=CustoProcesso(areaTrocadores,areaUtilidade,cargaUF,cargaUQ)\n",
        "  funr=cost\n",
        "\n",
        "  for k in range(NPAR):\n",
        "    if(Erro[k]>0):\n",
        "      funr[k]=1e99\n",
        "  funr = np.where(np.isnan(cost), 1e99, cost)\n",
        "\n",
        "  #funr=1e99 # fake line (temporary)\n",
        "  return funr "
      ],
      "execution_count": 0,
      "outputs": []
    },
    {
      "cell_type": "code",
      "metadata": {
        "id": "K4uCBdRVKAOf",
        "colab_type": "code",
        "outputId": "72aaab73-3906-4154-cb23-3fcce6393277",
        "colab": {
          "base_uri": "https://localhost:8080/",
          "height": 187
        }
      },
      "source": [
        "\n",
        "Ttest=np.zeros((1,Trocas))\n",
        "\n",
        "Ind_I,Ind_J,deltaT, Split, WhenSplit, Alpha=SharkBuildMatriz(x)\n",
        "Tout,erro,Rec_Temp,AreasTroca=Temperatura(x)\n",
        "\n",
        "print(Ind_I)\n",
        "print(Ind_J)\n",
        "print(deltaT)\n",
        "print('Split=',Split)\n",
        "print(Alpha)\n",
        "print(WhenSplit)\n",
        "print(\"#####------######\")\n",
        "print(Ttest)\n",
        "print(tempInicial)\n",
        "print(\"AreasTroca=\",AreasTroca)\n",
        "\n"
      ],
      "execution_count": 0,
      "outputs": [
        {
          "output_type": "stream",
          "text": [
            "[[0 0 0 2 2]]\n",
            "[[1 2 1 2 1]]\n",
            "[[-58.00013884 -32.94549065 -87.63297318 -50.92989955 -98.17537239]]\n",
            "Split= 1\n",
            "0.5750724837802736\n",
            "2\n",
            "#####------######\n",
            "[[423. 443. 323. 353. 443.]]\n",
            "[423.0, 443.0, 323.0, 353.0]\n",
            "AreasTroca= [0, 425.0019641494241, 0, 0, 0]\n"
          ],
          "name": "stdout"
        }
      ]
    },
    {
      "cell_type": "code",
      "metadata": {
        "id": "staDxSeFWyzK",
        "colab_type": "code",
        "outputId": "aaf0cf36-d0bb-4473-ddb0-31a1bda51821",
        "colab": {
          "base_uri": "https://localhost:8080/",
          "height": 238
        }
      },
      "source": [
        "\n",
        "print('=====================')\n",
        "Tout,erro,Rec_Temp,AreasTroca =Temperatura(x)\n",
        "df=pd.DataFrame(Rec_Temp)\n",
        "print('*****',Tout)\n",
        "#print(erro)\n",
        "print(df)\n",
        "print(\"AreasTroca=\",AreasTroca)\n"
      ],
      "execution_count": 0,
      "outputs": [
        {
          "output_type": "stream",
          "text": [
            "=====================\n",
            "***** [[390.05450935 443.         333.98183022 353.         443.        ]]\n",
            "            0      1          2      3      4\n",
            "0  423.000000  443.0  323.00000  353.0  443.0\n",
            "1  423.000000  443.0  323.00000  353.0  443.0\n",
            "2  423.000000  443.0  323.00000  353.0  443.0\n",
            "3  390.054509  443.0  333.98183  353.0  443.0\n",
            "4  390.054509  443.0  333.98183  353.0  443.0\n",
            "5  390.054509  443.0  333.98183  353.0  443.0\n",
            "6  390.054509  443.0  333.98183  353.0  443.0\n",
            "7  390.054509  443.0  333.98183  353.0  443.0\n",
            "8  390.054509  443.0  333.98183  353.0  443.0\n",
            "AreasTroca= [0, 425.0019641494241, 0, 0, 0]\n"
          ],
          "name": "stdout"
        }
      ]
    },
    {
      "cell_type": "code",
      "metadata": {
        "id": "ouDIo9TxD5Tm",
        "colab_type": "code",
        "outputId": "626c4d1c-fa05-4d1f-c959-6dbab49480b0",
        "colab": {
          "base_uri": "https://localhost:8080/",
          "height": 34
        }
      },
      "source": [
        "print(deltaT)"
      ],
      "execution_count": 0,
      "outputs": [
        {
          "output_type": "stream",
          "text": [
            "[[-58.00013884 -32.94549065 -87.63297318 -50.92989955 -98.17537239]]\n"
          ],
          "name": "stdout"
        }
      ]
    },
    {
      "cell_type": "code",
      "metadata": {
        "id": "gRlX82a71hdS",
        "colab_type": "code",
        "colab": {}
      },
      "source": [
        "def JawArea(df):\n",
        "  #global Trocas, mCp,tempInicial,tempAlvo,Ttest\n",
        "  global mCp,tempAlvo,tempInicial,Trocas,U,Trocas\n",
        "  global Rec_Cold,Rec_Hot,Rec_Tcold,Rec_Thot"
      ],
      "execution_count": 0,
      "outputs": []
    },
    {
      "cell_type": "code",
      "metadata": {
        "id": "OSRsL7jA1tPs",
        "colab_type": "code",
        "outputId": "3a180817-15ea-405f-9a52-afb7244b6dde",
        "colab": {
          "base_uri": "https://localhost:8080/",
          "height": 357
        }
      },
      "source": [
        "#deltaA=[]\n",
        "#Iij=np.ones((9,2)).astype(np.int64)*20\n",
        "#deltaTe=np.zeros((9,2))\n",
        "Iij=np.zeros((1,2)).astype(np.int64)\n",
        "deltaTe=np.zeros((1,2))\n",
        "Temp=np.array(df)\n",
        "TempDLM=[]\n",
        "Index=[]\n",
        "Cont=0\n",
        "for i in range(8):\n",
        "  for j in range(5):\n",
        "    A=Temp[i,j]-Temp[i+1,j]\n",
        "    if(A!=0):\n",
        "      Cont=Cont+1\n",
        "      TempDLM.append(A)\n",
        "      Index.append(j)\n",
        "\n",
        "print(TempDLM)\n",
        "print(Index)\n",
        "print(len(Index))\n",
        "\n",
        "Num=int(len(Index)/2)\n",
        "print('Num=',Num)\n",
        "DMLT=np.zeros((Num,2))\n",
        "Ind=np.zeros((Num,2)).astype(np.int64)\n",
        "\n",
        "for i in range(Num):\n",
        "  ki=2*(i-1)\n",
        "  kj=2*(i-1)+1\n",
        "  DMLT[i,0]=TempDLM[ki]  ;DMLT[i,1]=TempDLM[kj] \n",
        "  Ind[i,0]=Index[ki]  ;Ind[i,1]=Index[kj] \n",
        "  print('Ind=',Ind[i,:])\n",
        "\n",
        "\n",
        "print(pd.DataFrame(DMLT))\n",
        "print(pd.DataFrame(Ind))\n",
        "print(df)\n",
        "#print(TempDLM)\n",
        "print(Index)\n"
      ],
      "execution_count": 0,
      "outputs": [
        {
          "output_type": "stream",
          "text": [
            "[32.945490650931276, -10.981830216977073]\n",
            "[0, 2]\n",
            "2\n",
            "Num= 1\n",
            "Ind= [0 2]\n",
            "           0         1\n",
            "0  32.945491 -10.98183\n",
            "   0  1\n",
            "0  0  2\n",
            "            0      1          2      3      4\n",
            "0  423.000000  443.0  323.00000  353.0  443.0\n",
            "1  423.000000  443.0  323.00000  353.0  443.0\n",
            "2  423.000000  443.0  323.00000  353.0  443.0\n",
            "3  390.054509  443.0  333.98183  353.0  443.0\n",
            "4  390.054509  443.0  333.98183  353.0  443.0\n",
            "5  390.054509  443.0  333.98183  353.0  443.0\n",
            "6  390.054509  443.0  333.98183  353.0  443.0\n",
            "7  390.054509  443.0  333.98183  353.0  443.0\n",
            "8  390.054509  443.0  333.98183  353.0  443.0\n",
            "[0, 2]\n"
          ],
          "name": "stdout"
        }
      ]
    },
    {
      "cell_type": "code",
      "metadata": {
        "id": "GC5Q3VjxH5ed",
        "colab_type": "code",
        "outputId": "c57d7253-a204-4e4d-9ac8-b24702e38a64",
        "colab": {
          "base_uri": "https://localhost:8080/",
          "height": 51
        }
      },
      "source": [
        "print('Num=',Num)\n",
        "print(TempDLM)"
      ],
      "execution_count": 0,
      "outputs": [
        {
          "output_type": "stream",
          "text": [
            "Num= 1\n",
            "[32.945490650931276, -10.981830216977073]\n"
          ],
          "name": "stdout"
        }
      ]
    },
    {
      "cell_type": "code",
      "metadata": {
        "id": "lThQPNyT8yfV",
        "colab_type": "code",
        "outputId": "79eef11b-3914-49eb-bed7-902077ad6108",
        "colab": {
          "base_uri": "https://localhost:8080/",
          "height": 119
        }
      },
      "source": [
        "TempDLM=pd.DataFrame(TempDLM)\n",
        "print(TempDLM)\n",
        "Index=pd.DataFrame(Index)\n",
        "print(Index)"
      ],
      "execution_count": 0,
      "outputs": [
        {
          "output_type": "stream",
          "text": [
            "           0\n",
            "0  32.945491\n",
            "1 -10.981830\n",
            "   0\n",
            "0  0\n",
            "1  2\n"
          ],
          "name": "stdout"
        }
      ]
    },
    {
      "cell_type": "code",
      "metadata": {
        "id": "A-E5HgBaPVC-",
        "colab_type": "code",
        "outputId": "9d4e7963-eaa2-4127-808e-53aa29eab7a6",
        "colab": {
          "base_uri": "https://localhost:8080/",
          "height": 102
        }
      },
      "source": [
        "Areas, cargaUQtodas,cargaUFtodas=Utility(mCp,Rec_Temp,tempAlvo)\n",
        "print('Area utilidades=',Areas)\n",
        "print('cargaUQtodas=',cargaUQtodas)\n",
        "print('cargaUFtodas=',cargaUFtodas)\n",
        "print('tempFinal=',tempFinal)\n",
        "print('tempAlvo=',tempAlvo)"
      ],
      "execution_count": 0,
      "outputs": [
        {
          "output_type": "stream",
          "text": [
            "Area utilidades= [[2688.5232690897833, 2212.129845429153, 2054.79481945863, 1783.374719693662]]\n",
            "cargaUQtodas= [32705.45093490688]\n",
            "cargaUFtodas= [26410.901869813744]\n",
            "tempFinal= [390.05450935 443.         333.98183022 353.        ]\n",
            "tempAlvo= [323.0, 313.0, 393.0, 383.0]\n"
          ],
          "name": "stdout"
        }
      ]
    },
    {
      "cell_type": "code",
      "metadata": {
        "id": "S80QizOyk77C",
        "colab_type": "code",
        "outputId": "b3b5d2e9-771b-4166-cbf7-b2b9d74f10ba",
        "colab": {
          "base_uri": "https://localhost:8080/",
          "height": 34
        }
      },
      "source": [
        "print(WhenSplit)"
      ],
      "execution_count": 0,
      "outputs": [
        {
          "output_type": "stream",
          "text": [
            "2\n"
          ],
          "name": "stdout"
        }
      ]
    },
    {
      "cell_type": "code",
      "metadata": {
        "id": "z4RyeYueqKN1",
        "colab_type": "code",
        "outputId": "618cc962-2eaa-445f-fa46-6c60e0890ab4",
        "colab": {
          "base_uri": "https://localhost:8080/",
          "height": 296
        }
      },
      "source": [
        "#df = df[:-1]\n",
        "Imagem=len(df.iloc[:,0]) # Imagens+5 to get better graph postions\n",
        "Change=range(Imagem)\n",
        "for k in range(Trocas):\n",
        "  plt.plot(Change,df.iloc[:,k])\n",
        "\n",
        "plt.xlabel('Stages')\n",
        "plt.ylabel('Temperature (K)')"
      ],
      "execution_count": 0,
      "outputs": [
        {
          "output_type": "execute_result",
          "data": {
            "text/plain": [
              "Text(0, 0.5, 'Temperature (K)')"
            ]
          },
          "metadata": {
            "tags": []
          },
          "execution_count": 21
        },
        {
          "output_type": "display_data",
          "data": {
            "image/png": "[encoded data removed]",
            "text/plain": [
              "<Figure size 432x288 with 1 Axes>"
            ]
          },
          "metadata": {
            "tags": [],
            "needs_background": "light"
          }
        }
      ]
    },
    {
      "cell_type": "code",
      "metadata": {
        "id": "Rq6zaln-6cGn",
        "colab_type": "code",
        "outputId": "d3707bb9-702f-4b12-bc5d-708046ed9954",
        "colab": {
          "base_uri": "https://localhost:8080/",
          "height": 187
        }
      },
      "source": [
        "print(df)"
      ],
      "execution_count": 0,
      "outputs": [
        {
          "output_type": "stream",
          "text": [
            "            0      1          2      3      4\n",
            "0  423.000000  443.0  323.00000  353.0  443.0\n",
            "1  423.000000  443.0  323.00000  353.0  443.0\n",
            "2  423.000000  443.0  323.00000  353.0  443.0\n",
            "3  390.054509  443.0  333.98183  353.0  443.0\n",
            "4  390.054509  443.0  333.98183  353.0  443.0\n",
            "5  390.054509  443.0  333.98183  353.0  443.0\n",
            "6  390.054509  443.0  333.98183  353.0  443.0\n",
            "7  390.054509  443.0  333.98183  353.0  443.0\n",
            "8  390.054509  443.0  333.98183  353.0  443.0\n"
          ],
          "name": "stdout"
        }
      ]
    },
    {
      "cell_type": "code",
      "metadata": {
        "id": "r1Uf0lNsfPAf",
        "colab_type": "code",
        "colab": {}
      },
      "source": [
        "#print(Rec_Tcold)\n",
        "#print(Rec_Thot)"
      ],
      "execution_count": 0,
      "outputs": []
    },
    {
      "cell_type": "code",
      "metadata": {
        "id": "stkxAEVg9kcg",
        "colab_type": "code",
        "outputId": "102f1acf-fe6f-475a-82e1-b1a8be6cd145",
        "colab": {
          "base_uri": "https://localhost:8080/",
          "height": 68
        }
      },
      "source": [
        "print(Split)\n",
        "print(WhenSplit)\n",
        "print(tempInicial)\n"
      ],
      "execution_count": 0,
      "outputs": [
        {
          "output_type": "stream",
          "text": [
            "1\n",
            "2\n",
            "[423.0, 443.0, 323.0, 353.0]\n"
          ],
          "name": "stdout"
        }
      ]
    },
    {
      "cell_type": "code",
      "metadata": {
        "id": "98ebmeBd6e5L",
        "colab_type": "code",
        "outputId": "d37c07e0-c63a-437d-c472-bd519d9530f2",
        "colab": {
          "base_uri": "https://localhost:8080/",
          "height": 119
        }
      },
      "source": [
        "\n",
        "fobj=FUN\n",
        "\n",
        "x=np.zeros((NPAR,cols))\n",
        "for i in range(NPAR):\n",
        "  for j in range(cols):\n",
        "    r=np.random.random()\n",
        "    x[i,j]=r*(MAX[j]-MIN[j])+MIN[j]\n",
        "\n",
        "x,BEST,FOBEST,XY,BEST_XY=de_bounds_matriz.de(bounds, mut, crossp, \n",
        "                                             NPAR, its,fobj,x)\n"
      ],
      "execution_count": 0,
      "outputs": [
        {
          "output_type": "stream",
          "text": [
            "/usr/local/lib/python3.6/dist-packages/ipykernel_launcher.py:125: RuntimeWarning: invalid value encountered in double_scalars\n",
            "/usr/local/lib/python3.6/dist-packages/ipykernel_launcher.py:124: RuntimeWarning: invalid value encountered in double_scalars\n",
            "/usr/local/lib/python3.6/dist-packages/ipykernel_launcher.py:5: RuntimeWarning: divide by zero encountered in double_scalars\n",
            "  \"\"\"\n",
            "/usr/local/lib/python3.6/dist-packages/ipykernel_launcher.py:5: RuntimeWarning: invalid value encountered in double_scalars\n",
            "  \"\"\"\n"
          ],
          "name": "stderr"
        }
      ]
    },
    {
      "cell_type": "code",
      "metadata": {
        "id": "H1vR1CCOfG2S",
        "colab_type": "code",
        "outputId": "ad756ad7-91d6-4d38-b5cb-54abeda1ecdf",
        "colab": {
          "base_uri": "https://localhost:8080/",
          "height": 85
        }
      },
      "source": [
        "print(BEST)"
      ],
      "execution_count": 0,
      "outputs": [
        {
          "output_type": "stream",
          "text": [
            "[  0.24797841   0.80609972   1.84057998   0.69599122   1.49396552\n",
            "   0.96929688   2.81249777   2.7886825    2.24450221   1.50051719\n",
            " -76.6898764  -47.17386758 -55.28546951 -87.07115271  -0.86848365\n",
            "   0.16016243   1.03760185   1.49090104]\n"
          ],
          "name": "stdout"
        }
      ]
    },
    {
      "cell_type": "code",
      "metadata": {
        "id": "tSXs89ll9-LJ",
        "colab_type": "code",
        "outputId": "6ee633e6-109a-49ef-f653-e256948d67a9",
        "colab": {
          "base_uri": "https://localhost:8080/",
          "height": 34
        }
      },
      "source": [
        "print(FOBEST)"
      ],
      "execution_count": 0,
      "outputs": [
        {
          "output_type": "stream",
          "text": [
            "[3097292.2789176]\n"
          ],
          "name": "stdout"
        }
      ]
    },
    {
      "cell_type": "code",
      "metadata": {
        "id": "6hyOxTBGfbg4",
        "colab_type": "code",
        "outputId": "66124674-e6d7-4ab5-d142-19edfb1fdc62",
        "colab": {
          "base_uri": "https://localhost:8080/",
          "height": 238
        }
      },
      "source": [
        "xbest=BEST\n",
        "print('=====================')\n",
        "Tout,erro,Rec_Temp,AreasTroca =Temperatura(xbest)\n",
        "df=pd.DataFrame(Rec_Temp)\n",
        "print('*****',Tout)\n",
        "#print(erro)\n",
        "print(df)\n",
        "print(\"AreasTroca=\",AreasTroca)"
      ],
      "execution_count": 0,
      "outputs": [
        {
          "output_type": "stream",
          "text": [
            "=====================\n",
            "***** [[423.         389.01370439 323.28949455 387.68237799 389.01370439]]\n",
            "       0           1           2           3           4\n",
            "0  423.0  443.000000  323.000000  353.000000  443.000000\n",
            "1  423.0  443.000000  323.000000  353.000000  443.000000\n",
            "2  423.0  443.000000  323.000000  353.000000  443.000000\n",
            "3  423.0  395.826132  323.000000  354.511096  443.000000\n",
            "4  423.0  395.826132  323.000000  387.682378  387.714530\n",
            "5  423.0  389.013704  323.000000  387.682378  389.013704\n",
            "6  423.0  389.013704  323.000000  387.682378  389.013704\n",
            "7  423.0  389.013704  323.000000  387.682378  389.013704\n",
            "8  423.0  389.013704  323.289495  387.682378  389.013704\n",
            "AreasTroca= [0, 120.08096202099092, 3828.2865692464998, 0, 13.272607835208694]\n"
          ],
          "name": "stdout"
        }
      ]
    },
    {
      "cell_type": "code",
      "metadata": {
        "id": "ucmPFbcPf0fz",
        "colab_type": "code",
        "outputId": "c4c94914-cb85-46c4-cb7a-52890e7351c7",
        "colab": {
          "base_uri": "https://localhost:8080/",
          "height": 296
        }
      },
      "source": [
        "Imagem=len(df.iloc[:,0]) # Imagens+5 to get better graph postions\n",
        "Change=range(Imagem)\n",
        "for k in range(Trocas):\n",
        "  plt.plot(Change,df.iloc[:,k])\n",
        "\n",
        "plt.xlabel('Stages')\n",
        "plt.ylabel('Temperature (K)')"
      ],
      "execution_count": 0,
      "outputs": [
        {
          "output_type": "execute_result",
          "data": {
            "text/plain": [
              "Text(0, 0.5, 'Temperature (K)')"
            ]
          },
          "metadata": {
            "tags": []
          },
          "execution_count": 29
        },
        {
          "output_type": "display_data",
          "data": {
            "image/png": "[encoded data removed]",
            "text/plain": [
              "<Figure size 432x288 with 1 Axes>"
            ]
          },
          "metadata": {
            "tags": [],
            "needs_background": "light"
          }
        }
      ]
    },
    {
      "cell_type": "code",
      "metadata": {
        "id": "82zAZ6wyKVnu",
        "colab_type": "code",
        "outputId": "8f2a2dc4-064a-4b26-e632-5632fd12a426",
        "colab": {
          "base_uri": "https://localhost:8080/",
          "height": 238
        }
      },
      "source": [
        "print('=====================')\n",
        "x=BEST\n",
        "Tout,erro,Rec_Temp,AreasTroca =Temperatura(x)\n",
        "df=pd.DataFrame(Rec_Temp)\n",
        "print('*****',Tout)\n",
        "#print(erro)\n",
        "print(df)\n",
        "print(\"AreasTroca=\",AreasTroca)"
      ],
      "execution_count": 0,
      "outputs": [
        {
          "output_type": "stream",
          "text": [
            "=====================\n",
            "***** [[423.         389.01370439 323.28949455 387.68237799 389.01370439]]\n",
            "       0           1           2           3           4\n",
            "0  423.0  443.000000  323.000000  353.000000  443.000000\n",
            "1  423.0  443.000000  323.000000  353.000000  443.000000\n",
            "2  423.0  443.000000  323.000000  353.000000  443.000000\n",
            "3  423.0  395.826132  323.000000  354.511096  443.000000\n",
            "4  423.0  395.826132  323.000000  387.682378  387.714530\n",
            "5  423.0  389.013704  323.000000  387.682378  389.013704\n",
            "6  423.0  389.013704  323.000000  387.682378  389.013704\n",
            "7  423.0  389.013704  323.000000  387.682378  389.013704\n",
            "8  423.0  389.013704  323.289495  387.682378  389.013704\n",
            "AreasTroca= [0, 120.08096202099092, 3828.2865692464998, 0, 13.272607835208694]\n"
          ],
          "name": "stdout"
        }
      ]
    },
    {
      "cell_type": "code",
      "metadata": {
        "id": "4mdDh6nBK02F",
        "colab_type": "code",
        "outputId": "6dd5daf8-8a28-4c55-b037-271141701967",
        "colab": {
          "base_uri": "https://localhost:8080/",
          "height": 153
        }
      },
      "source": [
        "Areas, cargaUQtodas,cargaUFtodas=Utility(mCp,Rec_Temp,tempAlvo)\n",
        "print('Areas utilidades=',Areas)\n",
        "AreaCada=SharkArea(BEST)\n",
        "print('Areas trocadores=',AreaCada)\n",
        "print('cargaUQtodas=',cargaUQtodas)\n",
        "print('cargaUFtodas=',cargaUFtodas)\n",
        "print('tempFinal=',tempFinal)\n",
        "print('tempAlvo=',tempAlvo)\n",
        "print('tempInicial=',tempInicial)"
      ],
      "execution_count": 0,
      "outputs": [
        {
          "output_type": "stream",
          "text": [
            "Areas utilidades= [[3248.207460325652, 1811.9151942685226, 2312.8815716900835, 285.1520409743836]]\n",
            "Areas trocadores= [0.0, 120.08096202098918, 16.83562045304649, 0.0, 13.272607835208477]\n",
            "cargaUQtodas= [20913.151635159113]\n",
            "cargaUFtodas= [29942.559431518916]\n",
            "tempFinal= [423.         389.01370439 323.28949455 387.68237799]\n",
            "tempAlvo= [323.0, 313.0, 393.0, 383.0]\n",
            "tempInicial= [423.0, 443.0, 323.0, 353.0]\n"
          ],
          "name": "stdout"
        },
        {
          "output_type": "stream",
          "text": [
            "/usr/local/lib/python3.6/dist-packages/ipykernel_launcher.py:125: RuntimeWarning: invalid value encountered in double_scalars\n"
          ],
          "name": "stderr"
        }
      ]
    },
    {
      "cell_type": "code",
      "metadata": {
        "id": "lmsE4caSHdM9",
        "colab_type": "code",
        "outputId": "ddc6b64f-399d-414c-9f2a-c01e0711410b",
        "colab": {
          "base_uri": "https://localhost:8080/",
          "height": 51
        }
      },
      "source": [
        "Soma=0\n",
        "Areas=np.array(Areas)\n",
        "row, col=Areas.shape\n",
        "print(col)\n",
        "for j in range(col):\n",
        "  Soma=Soma+9094+221*Areas[0,j]**0.81\n",
        "print(Soma)"
      ],
      "execution_count": 0,
      "outputs": [
        {
          "output_type": "stream",
          "text": [
            "4\n",
            "425951.00865937985\n"
          ],
          "name": "stdout"
        }
      ]
    },
    {
      "cell_type": "code",
      "metadata": {
        "id": "I69ZEmwEReg4",
        "colab_type": "code",
        "outputId": "25ec953a-4992-4f31-efc3-9683de615895",
        "colab": {
          "base_uri": "https://localhost:8080/",
          "height": 34
        }
      },
      "source": [
        "Ind_I,Ind_J,deltaT, Split, WhenSplit, Alpha=SharkBuildMatriz(BEST)\n",
        "print('Alpha=',Alpha)"
      ],
      "execution_count": 0,
      "outputs": [
        {
          "output_type": "stream",
          "text": [
            "Alpha= 0.16016243276943054\n"
          ],
          "name": "stdout"
        }
      ]
    },
    {
      "cell_type": "code",
      "metadata": {
        "id": "FkXhJoSF6_Nw",
        "colab_type": "code",
        "outputId": "013c230a-4488-4289-b97c-33aaf80c26c5",
        "colab": {
          "base_uri": "https://localhost:8080/",
          "height": 34
        }
      },
      "source": [
        "print(FOBEST)"
      ],
      "execution_count": 0,
      "outputs": [
        {
          "output_type": "stream",
          "text": [
            "[3097292.2789176]\n"
          ],
          "name": "stdout"
        }
      ]
    },
    {
      "cell_type": "code",
      "metadata": {
        "id": "ritMAiEwmQ0m",
        "colab_type": "code",
        "colab": {}
      },
      "source": [
        ""
      ],
      "execution_count": 0,
      "outputs": []
    }
  ]
}